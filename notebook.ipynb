{
  "cells": [
    {
      "cell_type": "markdown",
      "metadata": {
        "id": "6CrcrtsBtbRx"
      },
      "source": [
        "## Importing libraries"
      ]
    },
    {
      "cell_type": "code",
      "execution_count": 3,
      "metadata": {
        "colab": {
          "base_uri": "https://localhost:8080/",
          "height": 720
        },
        "id": "hkLaIdpVmguC",
        "outputId": "b7052858-9556-42ce-f52c-5aa757361443"
      },
      "outputs": [
        {
          "name": "stdout",
          "output_type": "stream",
          "text": [
            "Collecting hazm\n",
            "  Obtaining dependency information for hazm from https://files.pythonhosted.org/packages/e9/16/66fa99ead559a36d56d3a8a9f8b77f1fb03cf6d91d338559325cfe67860d/hazm-0.9.3-py3-none-any.whl.metadata\n",
            "  Using cached hazm-0.9.3-py3-none-any.whl.metadata (7.9 kB)\n",
            "Collecting fasttext-wheel<0.10.0,>=0.9.2 (from hazm)\n",
            "  Using cached fasttext_wheel-0.9.2-cp311-cp311-win_amd64.whl (232 kB)\n",
            "Requirement already satisfied: gensim<5.0.0,>=4.3.1 in c:\\users\\ivarr\\appdata\\local\\programs\\python\\python311\\lib\\site-packages (from hazm) (4.3.1)\n",
            "Requirement already satisfied: nltk<4.0.0,>=3.8.1 in c:\\users\\ivarr\\appdata\\local\\programs\\python\\python311\\lib\\site-packages (from hazm) (3.8.1)\n",
            "Requirement already satisfied: numpy<2.0.0,>=1.24.3 in c:\\users\\ivarr\\appdata\\local\\programs\\python\\python311\\lib\\site-packages (from hazm) (1.24.3)\n",
            "Collecting python-crfsuite<0.10.0,>=0.9.9 (from hazm)\n",
            "  Using cached python-crfsuite-0.9.9.tar.gz (440 kB)\n",
            "  Preparing metadata (setup.py): started\n",
            "  Preparing metadata (setup.py): finished with status 'done'\n",
            "Requirement already satisfied: scikit-learn<2.0.0,>=1.2.2 in c:\\users\\ivarr\\appdata\\local\\programs\\python\\python311\\lib\\site-packages (from hazm) (1.3.0)\n",
            "Collecting pybind11>=2.2 (from fasttext-wheel<0.10.0,>=0.9.2->hazm)\n",
            "  Obtaining dependency information for pybind11>=2.2 from https://files.pythonhosted.org/packages/06/55/9f73c32dda93fa4f539fafa268f9504e83c489f460c380371d94296126cd/pybind11-2.11.1-py3-none-any.whl.metadata\n",
            "  Using cached pybind11-2.11.1-py3-none-any.whl.metadata (9.5 kB)\n",
            "Requirement already satisfied: setuptools>=0.7.0 in c:\\users\\ivarr\\appdata\\local\\programs\\python\\python311\\lib\\site-packages (from fasttext-wheel<0.10.0,>=0.9.2->hazm) (65.5.0)\n",
            "Requirement already satisfied: scipy>=1.7.0 in c:\\users\\ivarr\\appdata\\local\\programs\\python\\python311\\lib\\site-packages (from gensim<5.0.0,>=4.3.1->hazm) (1.11.1)\n",
            "Requirement already satisfied: smart-open>=1.8.1 in c:\\users\\ivarr\\appdata\\local\\programs\\python\\python311\\lib\\site-packages (from gensim<5.0.0,>=4.3.1->hazm) (6.3.0)\n",
            "Requirement already satisfied: click in c:\\users\\ivarr\\appdata\\local\\programs\\python\\python311\\lib\\site-packages (from nltk<4.0.0,>=3.8.1->hazm) (8.1.6)\n",
            "Requirement already satisfied: joblib in c:\\users\\ivarr\\appdata\\local\\programs\\python\\python311\\lib\\site-packages (from nltk<4.0.0,>=3.8.1->hazm) (1.3.1)\n",
            "Requirement already satisfied: regex>=2021.8.3 in c:\\users\\ivarr\\appdata\\local\\programs\\python\\python311\\lib\\site-packages (from nltk<4.0.0,>=3.8.1->hazm) (2023.8.8)\n",
            "Requirement already satisfied: tqdm in c:\\users\\ivarr\\appdata\\local\\programs\\python\\python311\\lib\\site-packages (from nltk<4.0.0,>=3.8.1->hazm) (4.65.2)\n",
            "Requirement already satisfied: threadpoolctl>=2.0.0 in c:\\users\\ivarr\\appdata\\local\\programs\\python\\python311\\lib\\site-packages (from scikit-learn<2.0.0,>=1.2.2->hazm) (3.2.0)\n",
            "Requirement already satisfied: colorama in c:\\users\\ivarr\\appdata\\local\\programs\\python\\python311\\lib\\site-packages (from click->nltk<4.0.0,>=3.8.1->hazm) (0.4.6)\n",
            "Using cached hazm-0.9.3-py3-none-any.whl (367 kB)\n",
            "Using cached pybind11-2.11.1-py3-none-any.whl (227 kB)\n",
            "Building wheels for collected packages: python-crfsuite\n",
            "  Building wheel for python-crfsuite (setup.py): started\n",
            "  Building wheel for python-crfsuite (setup.py): finished with status 'error'\n",
            "  Running setup.py clean for python-crfsuite\n",
            "Failed to build python-crfsuite\n"
          ]
        },
        {
          "name": "stderr",
          "output_type": "stream",
          "text": [
            "  error: subprocess-exited-with-error\n",
            "  \n",
            "  × python setup.py bdist_wheel did not run successfully.\n",
            "  │ exit code: 1\n",
            "  ╰─> [12 lines of output]\n",
            "      running bdist_wheel\n",
            "      running build\n",
            "      running build_py\n",
            "      creating build\n",
            "      creating build\\lib.win-amd64-cpython-311\n",
            "      creating build\\lib.win-amd64-cpython-311\\pycrfsuite\n",
            "      copying pycrfsuite\\_dumpparser.py -> build\\lib.win-amd64-cpython-311\\pycrfsuite\n",
            "      copying pycrfsuite\\_logparser.py -> build\\lib.win-amd64-cpython-311\\pycrfsuite\n",
            "      copying pycrfsuite\\__init__.py -> build\\lib.win-amd64-cpython-311\\pycrfsuite\n",
            "      running build_ext\n",
            "      building 'pycrfsuite._pycrfsuite' extension\n",
            "      error: Microsoft Visual C++ 14.0 or greater is required. Get it with \"Microsoft C++ Build Tools\": https://visualstudio.microsoft.com/visual-cpp-build-tools/\n",
            "      [end of output]\n",
            "  \n",
            "  note: This error originates from a subprocess, and is likely not a problem with pip.\n",
            "  ERROR: Failed building wheel for python-crfsuite\n",
            "ERROR: Could not build wheels for python-crfsuite, which is required to install pyproject.toml-based projects\n"
          ]
        }
      ],
      "source": [
        "!pip install hazm"
      ]
    },
    {
      "cell_type": "code",
      "execution_count": null,
      "metadata": {
        "colab": {
          "base_uri": "https://localhost:8080/"
        },
        "id": "ug6TbjjCodtT",
        "outputId": "fbf733ad-6dc9-4570-90f5-d295682886ec"
      },
      "outputs": [
        {
          "name": "stdout",
          "output_type": "stream",
          "text": [
            "Requirement already satisfied: emoji in /usr/local/lib/python3.10/dist-packages (2.7.0)\n",
            "Requirement already satisfied: transformers in /usr/local/lib/python3.10/dist-packages (4.31.0)\n",
            "Requirement already satisfied: filelock in /usr/local/lib/python3.10/dist-packages (from transformers) (3.12.2)\n",
            "Requirement already satisfied: huggingface-hub<1.0,>=0.14.1 in /usr/local/lib/python3.10/dist-packages (from transformers) (0.16.4)\n",
            "Requirement already satisfied: numpy>=1.17 in /usr/local/lib/python3.10/dist-packages (from transformers) (1.25.2)\n",
            "Requirement already satisfied: packaging>=20.0 in /usr/local/lib/python3.10/dist-packages (from transformers) (23.1)\n",
            "Requirement already satisfied: pyyaml>=5.1 in /usr/local/lib/python3.10/dist-packages (from transformers) (6.0.1)\n",
            "Requirement already satisfied: regex!=2019.12.17 in /usr/local/lib/python3.10/dist-packages (from transformers) (2023.6.3)\n",
            "Requirement already satisfied: requests in /usr/local/lib/python3.10/dist-packages (from transformers) (2.31.0)\n",
            "Requirement already satisfied: tokenizers!=0.11.3,<0.14,>=0.11.1 in /usr/local/lib/python3.10/dist-packages (from transformers) (0.13.3)\n",
            "Requirement already satisfied: safetensors>=0.3.1 in /usr/local/lib/python3.10/dist-packages (from transformers) (0.3.2)\n",
            "Requirement already satisfied: tqdm>=4.27 in /usr/local/lib/python3.10/dist-packages (from transformers) (4.66.0)\n",
            "Requirement already satisfied: fsspec in /usr/local/lib/python3.10/dist-packages (from huggingface-hub<1.0,>=0.14.1->transformers) (2023.6.0)\n",
            "Requirement already satisfied: typing-extensions>=3.7.4.3 in /usr/local/lib/python3.10/dist-packages (from huggingface-hub<1.0,>=0.14.1->transformers) (4.7.1)\n",
            "Requirement already satisfied: charset-normalizer<4,>=2 in /usr/local/lib/python3.10/dist-packages (from requests->transformers) (3.2.0)\n",
            "Requirement already satisfied: idna<4,>=2.5 in /usr/local/lib/python3.10/dist-packages (from requests->transformers) (3.4)\n",
            "Requirement already satisfied: urllib3<3,>=1.21.1 in /usr/local/lib/python3.10/dist-packages (from requests->transformers) (2.0.4)\n",
            "Requirement already satisfied: certifi>=2017.4.17 in /usr/local/lib/python3.10/dist-packages (from requests->transformers) (2023.7.22)\n"
          ]
        }
      ],
      "source": [
        "!pip install emoji\n",
        "!pip install transformers"
      ]
    },
    {
      "cell_type": "code",
      "execution_count": null,
      "metadata": {
        "colab": {
          "base_uri": "https://localhost:8080/"
        },
        "id": "LDvPmUCM6wVG",
        "outputId": "17b93e21-8306-4609-d6d7-623f34a812c8"
      },
      "outputs": [
        {
          "name": "stdout",
          "output_type": "stream",
          "text": [
            "Requirement already satisfied: imbalanced-learn in /usr/local/lib/python3.10/dist-packages (0.10.1)\n",
            "Requirement already satisfied: numpy>=1.17.3 in /usr/local/lib/python3.10/dist-packages (from imbalanced-learn) (1.25.2)\n",
            "Requirement already satisfied: scipy>=1.3.2 in /usr/local/lib/python3.10/dist-packages (from imbalanced-learn) (1.10.1)\n",
            "Requirement already satisfied: scikit-learn>=1.0.2 in /usr/local/lib/python3.10/dist-packages (from imbalanced-learn) (1.2.2)\n",
            "Requirement already satisfied: joblib>=1.1.1 in /usr/local/lib/python3.10/dist-packages (from imbalanced-learn) (1.3.2)\n",
            "Requirement already satisfied: threadpoolctl>=2.0.0 in /usr/local/lib/python3.10/dist-packages (from imbalanced-learn) (3.2.0)\n"
          ]
        }
      ],
      "source": [
        "!pip install imbalanced-learn"
      ]
    },
    {
      "cell_type": "code",
      "execution_count": 4,
      "metadata": {
        "id": "_Vqr7mP4ohHA"
      },
      "outputs": [
        {
          "name": "stderr",
          "output_type": "stream",
          "text": [
            "c:\\Users\\ivarr\\AppData\\Local\\Programs\\Python\\Python311\\Lib\\site-packages\\tqdm\\auto.py:21: TqdmWarning: IProgress not found. Please update jupyter and ipywidgets. See https://ipywidgets.readthedocs.io/en/stable/user_install.html\n",
            "  from .autonotebook import tqdm as notebook_tqdm\n"
          ]
        }
      ],
      "source": [
        "import pandas as pd\n",
        "import re\n",
        "# from hazm import Normalizer, word_tokenize\n",
        "import emoji\n",
        "from transformers import AutoTokenizer, TFBertModel\n",
        "import numpy as np\n",
        "from sklearn.model_selection import train_test_split\n",
        "from keras.models import Sequential\n",
        "from keras.layers import LSTM, Dense, LayerNormalization\n",
        "# from keras import activations\n",
        "from keras.optimizers import Adam\n",
        "import tensorflow as tf\n",
        "from sklearn.metrics import precision_recall_fscore_support\n",
        "from sklearn.metrics import classification_report\n",
        "from sklearn.utils import class_weight\n",
        "from keras import regularizers\n",
        "from keras.losses import CategoricalCrossentropy"
      ]
    },
    {
      "cell_type": "markdown",
      "metadata": {
        "id": "pkyxv-9K4dLq"
      },
      "source": [
        "## Reading the dataset"
      ]
    },
    {
      "cell_type": "code",
      "execution_count": null,
      "metadata": {
        "colab": {
          "base_uri": "https://localhost:8080/"
        },
        "id": "E0UAa73jo4Y5",
        "outputId": "a8e66cdf-eb44-4ecb-f7ce-11ad51f0440d"
      },
      "outputs": [
        {
          "name": "stdout",
          "output_type": "stream",
          "text": [
            "Mounted at /content/drive\n"
          ]
        }
      ],
      "source": [
        "from google.colab import drive\n",
        "drive.mount('/content/drive')"
      ]
    },
    {
      "cell_type": "code",
      "execution_count": 5,
      "metadata": {
        "id": "DyqMkQ-prgAV"
      },
      "outputs": [],
      "source": [
        "df = pd.read_csv('dataset/2.train_data_text.csv')"
      ]
    },
    {
      "cell_type": "markdown",
      "metadata": {
        "id": "q0fo5jSeteew"
      },
      "source": [
        "## Preprocessing"
      ]
    },
    {
      "cell_type": "markdown",
      "metadata": {
        "id": "10eS_lR64nyE"
      },
      "source": [
        "### Demojizing emojis"
      ]
    },
    {
      "cell_type": "code",
      "execution_count": 6,
      "metadata": {
        "id": "v5SG7SUTK2aU"
      },
      "outputs": [],
      "source": [
        "df['data'] = df['data'].replace(r'💨', r' ', regex=True)\n",
        "df['data'] = df['data'].replace(r'😌', r' ', regex=True)\n",
        "df['data'] = df['data'].replace(r'▪️', r' ', regex=True)"
      ]
    },
    {
      "cell_type": "code",
      "execution_count": 7,
      "metadata": {
        "id": "jcJRIfOEulpM"
      },
      "outputs": [],
      "source": [
        "df['data_demojized'] = df['data'].apply(lambda x: emoji.demojize(x))"
      ]
    },
    {
      "cell_type": "markdown",
      "metadata": {
        "id": "TmBHBpQr4vnr"
      },
      "source": [
        "### Cleaning texts"
      ]
    },
    {
      "cell_type": "code",
      "execution_count": 8,
      "metadata": {
        "id": "FFpHa4BcspbT"
      },
      "outputs": [],
      "source": [
        "\"\"\"\n",
        "\n",
        "MAKE SURE TO RETRAIN THE MODEL AGAIN\n",
        "WITHOUT DELETING HASHTAGS' CONTENT\n",
        "SOME OF THEM ARE MEANINGFUL\n",
        "SPECIALLY THOSE IN THE TEXT\n",
        "\n",
        "\"\"\"\n",
        "\n",
        "rules = [\n",
        "    r':\\s+:',\n",
        "    r':#', # removing certain # from sentence carring zero-width space\n",
        "    r'#', # removing hashtag for texts like #مشاهیر_ایران and #مشاهیر_ایران_و_جهان changed #\\w+ to #\n",
        "    r'\\(\\w{1}\\)', # removing (ع) and (ص)\n",
        "    r'\\.$', # removing period at the end of the line\n",
        "    r'ره', # removing ره from امام ره\n",
        "    r'\\[...\\]', # removing three [periods] like [...] مثل آقای\n",
        "    # r'#\\w+\\u200c\\w+', # removing hashtag coming with zero width non-joiner character like #تل‌آویو\n",
        "    r'\\.{2,}', # removing extra periods like .. and ...\n",
        "    r'[\\،\\؛\\,\\!\\«\\»\\(\\)\\'\\\"\\“\\”\\_]', # removing Persian punctuations\n",
        "    r'\\:\\w+(_\\w+)*\\:', # removing demojized emojis in formats like :red_circle\n",
        "    r'\\\\U[0-9a-zA-Z]{4,8}', # removing demojized emojis in unicode \\Uxxxxxxxx formats NOT FOUND\n",
        "    r'\\w\\:', # removing colons\n",
        "    r'[a-zA-z]{3,}', # removing emoji-remained characters\n",
        "    r'(?<=تأیید|تایید)',\n",
        "    r'(?=در)',\n",
        "    r'(?<=\\w)\\.(?=\\s+)', # removing period from the middle of the line at the end-of-sentence\n",
        "    r'؟',\n",
        "    r'(?<=%)'\n",
        "    ]\n",
        "df['data_clean'] = df['data_demojized'].replace(rules, r' ', regex=True)\n",
        "\n",
        "extra_rules = [\n",
        "    r'(?=ها|های)'\n",
        "    ]\n",
        "df['data_clean'] = df['data_clean'].replace(extra_rules, '\\u200c', regex=True)"
      ]
    },
    {
      "cell_type": "markdown",
      "metadata": {
        "id": "9zs-Ifw04j2k"
      },
      "source": [
        "### Normalization"
      ]
    },
    {
      "cell_type": "code",
      "execution_count": null,
      "metadata": {
        "id": "ZDEE98rstxVs"
      },
      "outputs": [],
      "source": [
        "normalizer = Normalizer()\n",
        "df['data_normalized'] = df['data_clean'].apply(lambda x: normalizer.normalize(x))"
      ]
    },
    {
      "cell_type": "markdown",
      "metadata": {
        "id": "hVuQSjzp9DMz"
      },
      "source": [
        "##### Testing text cleaning and normalization"
      ]
    },
    {
      "cell_type": "code",
      "execution_count": null,
      "metadata": {
        "id": "0kVyb__9z4Pe"
      },
      "outputs": [],
      "source": [
        "no = 2836\n",
        "print(df['data'][no])\n",
        "print(df['data_clean'][no])\n",
        "print(df['data_normalized'][no])"
      ]
    },
    {
      "cell_type": "code",
      "execution_count": null,
      "metadata": {
        "id": "A1vyShMLFXab"
      },
      "outputs": [],
      "source": [
        "text = 'لاریجانی رئیس مجمع تشخی از حضور این‌جانب در شورای نگهبان در سال ۱۳۸۰ هیچ‌گاه تصمیمات شورا را تا این حد غیرقابل دفاع نیافته‌ام چه در تأیید صلاحیت‌ها و چه در عدم‌احراز صلاحیت‌ها. با نظارت استصوابی و شورای نگهبان یک‌دست اصولگرا آش همان آش و کاسه همان کاسه است'\n",
        "for rule in rules:\n",
        "    print(re.sub(rule, r' ', text))"
      ]
    },
    {
      "cell_type": "code",
      "execution_count": null,
      "metadata": {
        "id": "7ZVIEQ83NjH0"
      },
      "outputs": [],
      "source": [
        "'''\n",
        "\n",
        " Testing data\n",
        "\n",
        "'''\n",
        "print(df[df['data_normalized'].str.contains(r'\\.(?=\\s\\w)', regex=True)][['data_normalized']])"
      ]
    },
    {
      "cell_type": "code",
      "execution_count": null,
      "metadata": {
        "colab": {
          "base_uri": "https://localhost:8080/"
        },
        "id": "lq_rHBlh9NjB",
        "outputId": "ad49d127-7324-4ae2-c0de-360f08f3622e"
      },
      "outputs": [
        {
          "name": "stdout",
          "output_type": "stream",
          "text": [
            "سرمایه‌های وطنی\n"
          ]
        }
      ],
      "source": [
        "import re\n",
        "\n",
        "text = \"سرمایههای وطنی\"\n",
        "\n",
        "# Add a space before \"ها\" or \"های\"\n",
        "modified_text = re.sub(r'(?=ها|های)', '\\u200c', text)\n",
        "\n",
        "print(modified_text)"
      ]
    },
    {
      "cell_type": "markdown",
      "metadata": {
        "id": "fp_907er47lw"
      },
      "source": [
        "### Tokenization"
      ]
    },
    {
      "cell_type": "code",
      "execution_count": null,
      "metadata": {
        "id": "yyMtXmTCYtXo"
      },
      "outputs": [],
      "source": [
        "df['data_tokenized'] = df['data_normalized'].apply(lambda x: word_tokenize(x))"
      ]
    },
    {
      "cell_type": "markdown",
      "metadata": {
        "id": "CWQobiKu4-kG"
      },
      "source": [
        "### Removing stopwords"
      ]
    },
    {
      "cell_type": "code",
      "execution_count": null,
      "metadata": {
        "id": "8rL84RSBUXKQ"
      },
      "outputs": [],
      "source": [
        "stopwords = [\n",
        "    \"از\", \"به\", \"که\", \"در\", \"با\", \"این\", \"برای\", \"را\", \"هم\", \"تا\", \"آن\", \"یا\", \"است\", \"یک\", \"نیز\", \"اما\",\n",
        "    \"هر\", \"بود\", \"باشد\", \"ما\", \"شما\", \"او\", \"آنها\", \"تو\", \"من\", \"اگر\", \"بی\", \"اون\", \"رو\", \"بودم\", \"نه\", \"باشه\",\n",
        "    \"شده\", \"اونا\", \"هست\", \"هستم\", \"خود\", \"خودش\", \"خودم\", \"ای\", \"منم\", \"توی\", \"چه\", \"چرا\", \"کی\", \"چی\", \"همین\",\n",
        "    \"حتی\", \"الان\", \"حالا\", \"تونسته\", \"همه\", \"همون\", \"کل\", \"قبل\", \"هرکسی\", \"هرچیزی\", \"همچنین\", \"همچون\", \"آیا\",\n",
        "    \"اکنون\", \"باید\", \"بعد\", \"پس\", \"پیش\", \"توسط\", \"تمام\", \"تر\", \"ترین\", \"جز\", \"حتما\", \"خیلی\", \"دیگر\", \"راه\",\n",
        "    \"زیاد\", \"سعی\", \"شد\", \"شماها\", \"کاملا\", \"کامل\", \"مثل\", \"مثلا\", \"می\", \"همچین\", \"واقعا\", \"ولی\", \"یکی\", \"یعنی\",\n",
        "    \"یه\", \"یکم\", \"چون\", \"بعضی\", \"هموطن\", \"وی\", \"شو\", \"دو\", \"کرد\", \"کردم\", \"کرده\", \"کردن\", \"کردند\", \"کردی\",\n",
        "    \"کردید\", \"کرده‌اند\", \"کردم‌\", \"کنم\", \"کنی\", \"کنند\", \"کنید\", \"کند\", \"کنیم\", \"کندم\", \"کنیم\", \"کنونی\", \"کنونی‌\",\n",
        "    \"کردم \", \"کردم‌ \", \"کردیم‌ \", \"کرده‌ \", \"کرده‌اند \", \"کرده‌ام \", \"کرده‌ای \", \"کرده‌ایم \", \"کرده‌اند‌ \",\n",
        "    \"کنم‌ \", \"کنیم‌ \", \"کنیم‌‌ \", \"کنید‌ \", \"کنید‌‌ \", \"کنند‌ \", \"کرد‌ \", \"کرد‌‌ \", \"کردم‌‌ \", \"کرده‌‌ \",\n",
        "    \"کرده‌‌‌‌ \", \"کرده‌ام‌‌ \", \"کرده‌ای‌‌‌ \", \"کرده‌ایم‌ \", \"کرده‌اند‌‌ \", \"کنم‌‌ \", \"کنی‌‌ \", \"کنند‌‌ \",\n",
        "    \"کنید‌‌ \", \"کنید‌‌‌‌ \", \"کنیم‌‌‌‌ \", \"کنونی‌‌ \", \"کنو\"\n",
        "]\n",
        "# stopwords_count = Counter([word for sublist in df.iloc[:, 2] for word in sublist if word in stopwords])\n",
        "# stopwords_list = sorted(stopwords_count.items(), key=lambda x: x[1], reverse=True)\n",
        "\n",
        "# for word, count in stopwords_list:\n",
        "#     print(f\"{word}: {count}\")\n",
        "\n",
        "def remove_stopwords(tokens):\n",
        "    filtered_tokens = [token for token in tokens if token not in stopwords]\n",
        "    return filtered_tokens\n",
        "\n",
        "df['data_stopwords_removed'] = df['data_tokenized'].apply(remove_stopwords)"
      ]
    },
    {
      "cell_type": "markdown",
      "metadata": {
        "id": "RYNB6AkK5C50"
      },
      "source": [
        "### Lemmatization"
      ]
    },
    {
      "cell_type": "code",
      "execution_count": null,
      "metadata": {
        "id": "a28zJtUm8Lzl"
      },
      "outputs": [],
      "source": [
        "# lemmatizer = Lemmatizer()\n",
        "# df['data_lemmatized'] = df['data_stopwords_removed'].apply(lambda tokens: [lemmatizer.lemmatize(token) for token in tokens])"
      ]
    },
    {
      "cell_type": "code",
      "execution_count": null,
      "metadata": {
        "id": "JScGjdUFTjFn"
      },
      "outputs": [],
      "source": [
        "# df['num_lemmatized_words'] = df.apply(lambda row: sum(1 for i, token in enumerate(row['data_stopwords_removed']) if token != row['data_lemmatized'][i]), axis=1)"
      ]
    },
    {
      "cell_type": "code",
      "execution_count": null,
      "metadata": {
        "id": "fgFtycQI6KpR"
      },
      "outputs": [],
      "source": [
        "df['data_preprocessed'] = df['data_tokenized'].apply(lambda tokens: ''.join(tokens))\n",
        "\n",
        "# df['data_preprocessed'] = df['data_stopwords_removed'].apply(lambda tokens: ' '.join(tokens))"
      ]
    },
    {
      "cell_type": "markdown",
      "metadata": {
        "id": "S6pAXLqwetxD"
      },
      "source": [
        "## Word embedding"
      ]
    },
    {
      "cell_type": "markdown",
      "metadata": {
        "id": "pBMGSfTW5G54"
      },
      "source": [
        "### Padding?"
      ]
    },
    {
      "cell_type": "code",
      "execution_count": null,
      "metadata": {
        "colab": {
          "base_uri": "https://localhost:8080/"
        },
        "id": "GRthP1FucbMb",
        "outputId": "e9a2d0bd-faf3-4934-d50a-83851c9a3f1c"
      },
      "outputs": [
        {
          "name": "stdout",
          "output_type": "stream",
          "text": [
            "0       False\n",
            "1       False\n",
            "2       False\n",
            "3       False\n",
            "4       False\n",
            "        ...  \n",
            "3864    False\n",
            "3865    False\n",
            "3866    False\n",
            "3867    False\n",
            "3868    False\n",
            "Name: data_normalized, Length: 3869, dtype: bool\n"
          ]
        }
      ],
      "source": [
        "'''\n",
        "\n",
        "TO RUN THIS CELL\n",
        "RUN THE CELL BELOW\n",
        "BEFORE RUNNING THIS\n",
        "AS MAX_LENGTH COMES\n",
        "THROUGH THE CELL BELOW\n",
        "\n",
        "'''\n",
        "need_padding = df['data_normalized'].apply(lambda tokens: len(tokens) < max_length)\n",
        "print(need_padding)"
      ]
    },
    {
      "cell_type": "markdown",
      "metadata": {
        "id": "N6JEndMD8v11"
      },
      "source": [
        "### Finding the max_length"
      ]
    },
    {
      "cell_type": "code",
      "execution_count": null,
      "metadata": {
        "colab": {
          "base_uri": "https://localhost:8080/"
        },
        "id": "jaRemjRO8Dui",
        "outputId": "51750e60-c56b-43a4-99c7-6e8928dca2e3"
      },
      "outputs": [
        {
          "data": {
            "text/plain": [
              "68"
            ]
          },
          "execution_count": 10,
          "metadata": {},
          "output_type": "execute_result"
        }
      ],
      "source": [
        "def max_len(dataset):\n",
        "    return max(dataset['data_tokenized'].apply(lambda x: len(x)))\n",
        "\n",
        "max_length = max_len(df)\n",
        "max_length"
      ]
    },
    {
      "cell_type": "code",
      "execution_count": null,
      "metadata": {
        "colab": {
          "base_uri": "https://localhost:8080/"
        },
        "id": "_3GWsz1DQrfl",
        "outputId": "8496eed8-2947-419f-f5d8-de49cd8e307e"
      },
      "outputs": [
        {
          "name": "stdout",
          "output_type": "stream",
          "text": [
            "Longest max_length as index of data_normalized column: 64\n"
          ]
        }
      ],
      "source": [
        "print('Longest max_length as index of data_normalized column:', df['data_tokenized'].str.len().idxmax())"
      ]
    },
    {
      "cell_type": "markdown",
      "metadata": {
        "id": "22Atr7Om7tb1"
      },
      "source": [
        "### PARSBERT model"
      ]
    },
    {
      "cell_type": "code",
      "execution_count": 9,
      "metadata": {
        "id": "VjAXYP_r7y76"
      },
      "outputs": [
        {
          "name": "stderr",
          "output_type": "stream",
          "text": [
            "Downloading (…)lve/main/config.json: 100%|██████████| 434/434 [00:00<00:00, 434kB/s]\n",
            "Downloading (…)solve/main/vocab.txt: 100%|██████████| 1.22M/1.22M [00:02<00:00, 527kB/s]\n"
          ]
        }
      ],
      "source": [
        "tokenizer = AutoTokenizer.from_pretrained('HooshvareLab/bert-base-parsbert-uncased')"
      ]
    },
    {
      "cell_type": "code",
      "execution_count": 10,
      "metadata": {
        "id": "r6SufIOEoYHd"
      },
      "outputs": [
        {
          "name": "stderr",
          "output_type": "stream",
          "text": [
            "Downloading tf_model.h5: 100%|██████████| 963M/963M [20:26<00:00, 785kB/s] \n",
            "Some layers from the model checkpoint at HooshvareLab/bert-base-parsbert-uncased were not used when initializing TFBertModel: ['mlm___cls', 'nsp___cls']\n",
            "- This IS expected if you are initializing TFBertModel from the checkpoint of a model trained on another task or with another architecture (e.g. initializing a BertForSequenceClassification model from a BertForPreTraining model).\n",
            "- This IS NOT expected if you are initializing TFBertModel from the checkpoint of a model that you expect to be exactly identical (initializing a BertForSequenceClassification model from a BertForSequenceClassification model).\n",
            "All the layers of TFBertModel were initialized from the model checkpoint at HooshvareLab/bert-base-parsbert-uncased.\n",
            "If your task is similar to the task the model of the checkpoint was trained on, you can already use TFBertModel for predictions without further training.\n"
          ]
        }
      ],
      "source": [
        "bert_model = TFBertModel.from_pretrained('HooshvareLab/bert-base-parsbert-uncased')"
      ]
    },
    {
      "cell_type": "code",
      "execution_count": 12,
      "metadata": {
        "colab": {
          "base_uri": "https://localhost:8080/"
        },
        "id": "nSowrM6IPPRL",
        "outputId": "3708c23b-c0fa-4685-cdf4-c8f9dbc31027"
      },
      "outputs": [
        {
          "name": "stdout",
          "output_type": "stream",
          "text": [
            "Final embeddings shape: (3869, 68, 768)\n"
          ]
        }
      ],
      "source": [
        "max_length = 68\n",
        "batch_size = 32\n",
        "num_samples = len(df)\n",
        "num_batches = int(np.ceil(num_samples / batch_size))\n",
        "\n",
        "embeddings_list = []\n",
        "\n",
        "for i in range(num_batches):\n",
        "    start_index = i * batch_size\n",
        "    end_index = min((i + 1) * batch_size, num_samples)\n",
        "    batch = df['data_clean'][start_index:end_index]\n",
        "\n",
        "    tokenized_tensors = tokenizer.batch_encode_plus(\n",
        "        batch.tolist(),\n",
        "        add_special_tokens=True,\n",
        "        truncation=True,\n",
        "        padding='max_length',\n",
        "        max_length=max_length,\n",
        "        return_tensors='tf'\n",
        "    )['input_ids']\n",
        "\n",
        "    outputs = bert_model(tokenized_tensors)\n",
        "    embeddings = outputs.last_hidden_state.numpy()\n",
        "    embeddings_list.append(embeddings)\n",
        "\n",
        "embeddings = np.concatenate(embeddings_list, axis=0)\n",
        "\n",
        "print(f\"Final embeddings shape: {embeddings.shape}\")"
      ]
    },
    {
      "cell_type": "code",
      "execution_count": null,
      "metadata": {
        "colab": {
          "base_uri": "https://localhost:8080/"
        },
        "id": "R0rcN9gOPoRP",
        "outputId": "1356ddf8-b1d3-43e7-b1af-fb788a3211c4"
      },
      "outputs": [
        {
          "data": {
            "text/plain": [
              "3869"
            ]
          },
          "execution_count": 78,
          "metadata": {},
          "output_type": "execute_result"
        }
      ],
      "source": [
        "total_sentences = (241 * batch_size) + 13\n",
        "total_sentences"
      ]
    },
    {
      "cell_type": "code",
      "execution_count": 31,
      "metadata": {
        "id": "GfsUlN2t2vZ8"
      },
      "outputs": [],
      "source": [
        "np.save('parsbert_embeddings_input_ids.npy', embeddings)"
      ]
    },
    {
      "cell_type": "markdown",
      "metadata": {
        "id": "4_6uN2mHgK4P"
      },
      "source": [
        "## Word2Vec model"
      ]
    },
    {
      "cell_type": "code",
      "execution_count": null,
      "metadata": {
        "id": "r7TDf0JFgNhK"
      },
      "outputs": [],
      "source": [
        "model = Word2Vec(df['data_tokenized'],\n",
        "                 vector_size=max_length,\n",
        "                 alpha=0.001,\n",
        "                 window=10,\n",
        "                 min_count=1,\n",
        "                 workers=4,\n",
        "                 sg=1,\n",
        "                 hs=0,\n",
        "                 negative=20\n",
        "                 )"
      ]
    },
    {
      "cell_type": "code",
      "execution_count": null,
      "metadata": {
        "id": "reewuKeq-8ZA"
      },
      "outputs": [],
      "source": [
        "y = df.iloc[:, 3:14]"
      ]
    },
    {
      "cell_type": "code",
      "execution_count": null,
      "metadata": {
        "id": "tpbC_u2b8scV"
      },
      "outputs": [],
      "source": [
        "target_vectors = df.iloc[:, 3:14].applymap(lambda x: model.wv[x]).values.tolist()\n",
        "target_vectors_df = pd.DataFrame(target_vectors)"
      ]
    },
    {
      "cell_type": "code",
      "execution_count": null,
      "metadata": {
        "colab": {
          "base_uri": "https://localhost:8080/",
          "height": 1000
        },
        "id": "Fi6bx36p_P_d",
        "outputId": "d128e4a6-9b78-40a4-ef46-3d8daea26ae0"
      },
      "outputs": [
        {
          "data": {
            "text/html": [
              "\n",
              "\n",
              "  <div id=\"df-8a7dd306-b53b-4ac6-8a41-7c814162c689\">\n",
              "    <div class=\"colab-df-container\">\n",
              "      <div>\n",
              "<style scoped>\n",
              "    .dataframe tbody tr th:only-of-type {\n",
              "        vertical-align: middle;\n",
              "    }\n",
              "\n",
              "    .dataframe tbody tr th {\n",
              "        vertical-align: top;\n",
              "    }\n",
              "\n",
              "    .dataframe thead th {\n",
              "        text-align: right;\n",
              "    }\n",
              "</style>\n",
              "<table border=\"1\" class=\"dataframe\">\n",
              "  <thead>\n",
              "    <tr style=\"text-align: right;\">\n",
              "      <th></th>\n",
              "      <th>0</th>\n",
              "      <th>1</th>\n",
              "      <th>2</th>\n",
              "      <th>3</th>\n",
              "      <th>4</th>\n",
              "      <th>5</th>\n",
              "      <th>6</th>\n",
              "      <th>7</th>\n",
              "      <th>8</th>\n",
              "      <th>9</th>\n",
              "      <th>10</th>\n",
              "    </tr>\n",
              "  </thead>\n",
              "  <tbody>\n",
              "    <tr>\n",
              "      <th>0</th>\n",
              "      <td>[0.35608754, 0.82468987, 0.17659916, 0.5669733...</td>\n",
              "      <td>[0.35235533, 0.8212422, 0.1741617, 0.5656758, ...</td>\n",
              "      <td>[0.35235533, 0.8212422, 0.1741617, 0.5656758, ...</td>\n",
              "      <td>[0.35608754, 0.82468987, 0.17659916, 0.5669733...</td>\n",
              "      <td>[0.35235533, 0.8212422, 0.1741617, 0.5656758, ...</td>\n",
              "      <td>[0.35608754, 0.82468987, 0.17659916, 0.5669733...</td>\n",
              "      <td>[0.35235533, 0.8212422, 0.1741617, 0.5656758, ...</td>\n",
              "      <td>[0.35608754, 0.82468987, 0.17659916, 0.5669733...</td>\n",
              "      <td>[0.35608754, 0.82468987, 0.17659916, 0.5669733...</td>\n",
              "      <td>[0.35608754, 0.82468987, 0.17659916, 0.5669733...</td>\n",
              "      <td>[0.35608754, 0.82468987, 0.17659916, 0.5669733...</td>\n",
              "    </tr>\n",
              "    <tr>\n",
              "      <th>1</th>\n",
              "      <td>[0.35608754, 0.82468987, 0.17659916, 0.5669733...</td>\n",
              "      <td>[0.35608754, 0.82468987, 0.17659916, 0.5669733...</td>\n",
              "      <td>[0.35608754, 0.82468987, 0.17659916, 0.5669733...</td>\n",
              "      <td>[0.35608754, 0.82468987, 0.17659916, 0.5669733...</td>\n",
              "      <td>[0.35235533, 0.8212422, 0.1741617, 0.5656758, ...</td>\n",
              "      <td>[0.35608754, 0.82468987, 0.17659916, 0.5669733...</td>\n",
              "      <td>[0.35235533, 0.8212422, 0.1741617, 0.5656758, ...</td>\n",
              "      <td>[0.35608754, 0.82468987, 0.17659916, 0.5669733...</td>\n",
              "      <td>[0.35608754, 0.82468987, 0.17659916, 0.5669733...</td>\n",
              "      <td>[0.35608754, 0.82468987, 0.17659916, 0.5669733...</td>\n",
              "      <td>[0.35608754, 0.82468987, 0.17659916, 0.5669733...</td>\n",
              "    </tr>\n",
              "    <tr>\n",
              "      <th>2</th>\n",
              "      <td>[0.35608754, 0.82468987, 0.17659916, 0.5669733...</td>\n",
              "      <td>[0.35608754, 0.82468987, 0.17659916, 0.5669733...</td>\n",
              "      <td>[0.35608754, 0.82468987, 0.17659916, 0.5669733...</td>\n",
              "      <td>[0.35235533, 0.8212422, 0.1741617, 0.5656758, ...</td>\n",
              "      <td>[0.35608754, 0.82468987, 0.17659916, 0.5669733...</td>\n",
              "      <td>[0.35608754, 0.82468987, 0.17659916, 0.5669733...</td>\n",
              "      <td>[0.35235533, 0.8212422, 0.1741617, 0.5656758, ...</td>\n",
              "      <td>[0.35608754, 0.82468987, 0.17659916, 0.5669733...</td>\n",
              "      <td>[0.35235533, 0.8212422, 0.1741617, 0.5656758, ...</td>\n",
              "      <td>[0.35608754, 0.82468987, 0.17659916, 0.5669733...</td>\n",
              "      <td>[0.35235533, 0.8212422, 0.1741617, 0.5656758, ...</td>\n",
              "    </tr>\n",
              "    <tr>\n",
              "      <th>3</th>\n",
              "      <td>[0.35608754, 0.82468987, 0.17659916, 0.5669733...</td>\n",
              "      <td>[0.35608754, 0.82468987, 0.17659916, 0.5669733...</td>\n",
              "      <td>[0.35235533, 0.8212422, 0.1741617, 0.5656758, ...</td>\n",
              "      <td>[0.35608754, 0.82468987, 0.17659916, 0.5669733...</td>\n",
              "      <td>[0.35608754, 0.82468987, 0.17659916, 0.5669733...</td>\n",
              "      <td>[0.35608754, 0.82468987, 0.17659916, 0.5669733...</td>\n",
              "      <td>[0.35235533, 0.8212422, 0.1741617, 0.5656758, ...</td>\n",
              "      <td>[0.35608754, 0.82468987, 0.17659916, 0.5669733...</td>\n",
              "      <td>[0.35235533, 0.8212422, 0.1741617, 0.5656758, ...</td>\n",
              "      <td>[0.35608754, 0.82468987, 0.17659916, 0.5669733...</td>\n",
              "      <td>[0.35608754, 0.82468987, 0.17659916, 0.5669733...</td>\n",
              "    </tr>\n",
              "    <tr>\n",
              "      <th>4</th>\n",
              "      <td>[0.35608754, 0.82468987, 0.17659916, 0.5669733...</td>\n",
              "      <td>[0.35608754, 0.82468987, 0.17659916, 0.5669733...</td>\n",
              "      <td>[0.35235533, 0.8212422, 0.1741617, 0.5656758, ...</td>\n",
              "      <td>[0.35608754, 0.82468987, 0.17659916, 0.5669733...</td>\n",
              "      <td>[0.35608754, 0.82468987, 0.17659916, 0.5669733...</td>\n",
              "      <td>[0.35608754, 0.82468987, 0.17659916, 0.5669733...</td>\n",
              "      <td>[0.35235533, 0.8212422, 0.1741617, 0.5656758, ...</td>\n",
              "      <td>[0.35608754, 0.82468987, 0.17659916, 0.5669733...</td>\n",
              "      <td>[0.35235533, 0.8212422, 0.1741617, 0.5656758, ...</td>\n",
              "      <td>[0.35608754, 0.82468987, 0.17659916, 0.5669733...</td>\n",
              "      <td>[0.35235533, 0.8212422, 0.1741617, 0.5656758, ...</td>\n",
              "    </tr>\n",
              "    <tr>\n",
              "      <th>...</th>\n",
              "      <td>...</td>\n",
              "      <td>...</td>\n",
              "      <td>...</td>\n",
              "      <td>...</td>\n",
              "      <td>...</td>\n",
              "      <td>...</td>\n",
              "      <td>...</td>\n",
              "      <td>...</td>\n",
              "      <td>...</td>\n",
              "      <td>...</td>\n",
              "      <td>...</td>\n",
              "    </tr>\n",
              "    <tr>\n",
              "      <th>3864</th>\n",
              "      <td>[0.35608754, 0.82468987, 0.17659916, 0.5669733...</td>\n",
              "      <td>[0.35608754, 0.82468987, 0.17659916, 0.5669733...</td>\n",
              "      <td>[0.35235533, 0.8212422, 0.1741617, 0.5656758, ...</td>\n",
              "      <td>[0.35608754, 0.82468987, 0.17659916, 0.5669733...</td>\n",
              "      <td>[0.35608754, 0.82468987, 0.17659916, 0.5669733...</td>\n",
              "      <td>[0.35235533, 0.8212422, 0.1741617, 0.5656758, ...</td>\n",
              "      <td>[0.35235533, 0.8212422, 0.1741617, 0.5656758, ...</td>\n",
              "      <td>[0.35608754, 0.82468987, 0.17659916, 0.5669733...</td>\n",
              "      <td>[0.35608754, 0.82468987, 0.17659916, 0.5669733...</td>\n",
              "      <td>[0.35608754, 0.82468987, 0.17659916, 0.5669733...</td>\n",
              "      <td>[0.35608754, 0.82468987, 0.17659916, 0.5669733...</td>\n",
              "    </tr>\n",
              "    <tr>\n",
              "      <th>3865</th>\n",
              "      <td>[0.35608754, 0.82468987, 0.17659916, 0.5669733...</td>\n",
              "      <td>[0.35608754, 0.82468987, 0.17659916, 0.5669733...</td>\n",
              "      <td>[0.35235533, 0.8212422, 0.1741617, 0.5656758, ...</td>\n",
              "      <td>[0.35608754, 0.82468987, 0.17659916, 0.5669733...</td>\n",
              "      <td>[0.35608754, 0.82468987, 0.17659916, 0.5669733...</td>\n",
              "      <td>[0.35608754, 0.82468987, 0.17659916, 0.5669733...</td>\n",
              "      <td>[0.35235533, 0.8212422, 0.1741617, 0.5656758, ...</td>\n",
              "      <td>[0.35608754, 0.82468987, 0.17659916, 0.5669733...</td>\n",
              "      <td>[0.35608754, 0.82468987, 0.17659916, 0.5669733...</td>\n",
              "      <td>[0.35608754, 0.82468987, 0.17659916, 0.5669733...</td>\n",
              "      <td>[0.35608754, 0.82468987, 0.17659916, 0.5669733...</td>\n",
              "    </tr>\n",
              "    <tr>\n",
              "      <th>3866</th>\n",
              "      <td>[0.35608754, 0.82468987, 0.17659916, 0.5669733...</td>\n",
              "      <td>[0.35608754, 0.82468987, 0.17659916, 0.5669733...</td>\n",
              "      <td>[0.35235533, 0.8212422, 0.1741617, 0.5656758, ...</td>\n",
              "      <td>[0.35608754, 0.82468987, 0.17659916, 0.5669733...</td>\n",
              "      <td>[0.35608754, 0.82468987, 0.17659916, 0.5669733...</td>\n",
              "      <td>[0.35608754, 0.82468987, 0.17659916, 0.5669733...</td>\n",
              "      <td>[0.35235533, 0.8212422, 0.1741617, 0.5656758, ...</td>\n",
              "      <td>[0.35608754, 0.82468987, 0.17659916, 0.5669733...</td>\n",
              "      <td>[0.35235533, 0.8212422, 0.1741617, 0.5656758, ...</td>\n",
              "      <td>[0.35608754, 0.82468987, 0.17659916, 0.5669733...</td>\n",
              "      <td>[0.35235533, 0.8212422, 0.1741617, 0.5656758, ...</td>\n",
              "    </tr>\n",
              "    <tr>\n",
              "      <th>3867</th>\n",
              "      <td>[0.35608754, 0.82468987, 0.17659916, 0.5669733...</td>\n",
              "      <td>[0.35235533, 0.8212422, 0.1741617, 0.5656758, ...</td>\n",
              "      <td>[0.35608754, 0.82468987, 0.17659916, 0.5669733...</td>\n",
              "      <td>[0.35608754, 0.82468987, 0.17659916, 0.5669733...</td>\n",
              "      <td>[0.35608754, 0.82468987, 0.17659916, 0.5669733...</td>\n",
              "      <td>[0.35608754, 0.82468987, 0.17659916, 0.5669733...</td>\n",
              "      <td>[0.35608754, 0.82468987, 0.17659916, 0.5669733...</td>\n",
              "      <td>[0.35608754, 0.82468987, 0.17659916, 0.5669733...</td>\n",
              "      <td>[0.35608754, 0.82468987, 0.17659916, 0.5669733...</td>\n",
              "      <td>[0.35608754, 0.82468987, 0.17659916, 0.5669733...</td>\n",
              "      <td>[0.35608754, 0.82468987, 0.17659916, 0.5669733...</td>\n",
              "    </tr>\n",
              "    <tr>\n",
              "      <th>3868</th>\n",
              "      <td>[0.35235533, 0.8212422, 0.1741617, 0.5656758, ...</td>\n",
              "      <td>[0.35608754, 0.82468987, 0.17659916, 0.5669733...</td>\n",
              "      <td>[0.35608754, 0.82468987, 0.17659916, 0.5669733...</td>\n",
              "      <td>[0.35608754, 0.82468987, 0.17659916, 0.5669733...</td>\n",
              "      <td>[0.35608754, 0.82468987, 0.17659916, 0.5669733...</td>\n",
              "      <td>[0.35608754, 0.82468987, 0.17659916, 0.5669733...</td>\n",
              "      <td>[0.35608754, 0.82468987, 0.17659916, 0.5669733...</td>\n",
              "      <td>[0.35608754, 0.82468987, 0.17659916, 0.5669733...</td>\n",
              "      <td>[0.35608754, 0.82468987, 0.17659916, 0.5669733...</td>\n",
              "      <td>[0.35608754, 0.82468987, 0.17659916, 0.5669733...</td>\n",
              "      <td>[0.35608754, 0.82468987, 0.17659916, 0.5669733...</td>\n",
              "    </tr>\n",
              "  </tbody>\n",
              "</table>\n",
              "<p>3869 rows × 11 columns</p>\n",
              "</div>\n",
              "      <button class=\"colab-df-convert\" onclick=\"convertToInteractive('df-8a7dd306-b53b-4ac6-8a41-7c814162c689')\"\n",
              "              title=\"Convert this dataframe to an interactive table.\"\n",
              "              style=\"display:none;\">\n",
              "\n",
              "  <svg xmlns=\"http://www.w3.org/2000/svg\" height=\"24px\"viewBox=\"0 0 24 24\"\n",
              "       width=\"24px\">\n",
              "    <path d=\"M0 0h24v24H0V0z\" fill=\"none\"/>\n",
              "    <path d=\"M18.56 5.44l.94 2.06.94-2.06 2.06-.94-2.06-.94-.94-2.06-.94 2.06-2.06.94zm-11 1L8.5 8.5l.94-2.06 2.06-.94-2.06-.94L8.5 2.5l-.94 2.06-2.06.94zm10 10l.94 2.06.94-2.06 2.06-.94-2.06-.94-.94-2.06-.94 2.06-2.06.94z\"/><path d=\"M17.41 7.96l-1.37-1.37c-.4-.4-.92-.59-1.43-.59-.52 0-1.04.2-1.43.59L10.3 9.45l-7.72 7.72c-.78.78-.78 2.05 0 2.83L4 21.41c.39.39.9.59 1.41.59.51 0 1.02-.2 1.41-.59l7.78-7.78 2.81-2.81c.8-.78.8-2.07 0-2.86zM5.41 20L4 18.59l7.72-7.72 1.47 1.35L5.41 20z\"/>\n",
              "  </svg>\n",
              "      </button>\n",
              "\n",
              "\n",
              "\n",
              "    <div id=\"df-0f1deed6-c888-426d-8dae-7769345e0921\">\n",
              "      <button class=\"colab-df-quickchart\" onclick=\"quickchart('df-0f1deed6-c888-426d-8dae-7769345e0921')\"\n",
              "              title=\"Suggest charts.\"\n",
              "              style=\"display:none;\">\n",
              "\n",
              "<svg xmlns=\"http://www.w3.org/2000/svg\" height=\"24px\"viewBox=\"0 0 24 24\"\n",
              "     width=\"24px\">\n",
              "    <g>\n",
              "        <path d=\"M19 3H5c-1.1 0-2 .9-2 2v14c0 1.1.9 2 2 2h14c1.1 0 2-.9 2-2V5c0-1.1-.9-2-2-2zM9 17H7v-7h2v7zm4 0h-2V7h2v10zm4 0h-2v-4h2v4z\"/>\n",
              "    </g>\n",
              "</svg>\n",
              "      </button>\n",
              "    </div>\n",
              "\n",
              "<style>\n",
              "  .colab-df-quickchart {\n",
              "    background-color: #E8F0FE;\n",
              "    border: none;\n",
              "    border-radius: 50%;\n",
              "    cursor: pointer;\n",
              "    display: none;\n",
              "    fill: #1967D2;\n",
              "    height: 32px;\n",
              "    padding: 0 0 0 0;\n",
              "    width: 32px;\n",
              "  }\n",
              "\n",
              "  .colab-df-quickchart:hover {\n",
              "    background-color: #E2EBFA;\n",
              "    box-shadow: 0px 1px 2px rgba(60, 64, 67, 0.3), 0px 1px 3px 1px rgba(60, 64, 67, 0.15);\n",
              "    fill: #174EA6;\n",
              "  }\n",
              "\n",
              "  [theme=dark] .colab-df-quickchart {\n",
              "    background-color: #3B4455;\n",
              "    fill: #D2E3FC;\n",
              "  }\n",
              "\n",
              "  [theme=dark] .colab-df-quickchart:hover {\n",
              "    background-color: #434B5C;\n",
              "    box-shadow: 0px 1px 3px 1px rgba(0, 0, 0, 0.15);\n",
              "    filter: drop-shadow(0px 1px 2px rgba(0, 0, 0, 0.3));\n",
              "    fill: #FFFFFF;\n",
              "  }\n",
              "</style>\n",
              "\n",
              "    <script>\n",
              "      async function quickchart(key) {\n",
              "        const containerElement = document.querySelector('#' + key);\n",
              "        const charts = await google.colab.kernel.invokeFunction(\n",
              "            'suggestCharts', [key], {});\n",
              "      }\n",
              "    </script>\n",
              "\n",
              "      <script>\n",
              "\n",
              "function displayQuickchartButton(domScope) {\n",
              "  let quickchartButtonEl =\n",
              "    domScope.querySelector('#df-0f1deed6-c888-426d-8dae-7769345e0921 button.colab-df-quickchart');\n",
              "  quickchartButtonEl.style.display =\n",
              "    google.colab.kernel.accessAllowed ? 'block' : 'none';\n",
              "}\n",
              "\n",
              "        displayQuickchartButton(document);\n",
              "      </script>\n",
              "      <style>\n",
              "    .colab-df-container {\n",
              "      display:flex;\n",
              "      flex-wrap:wrap;\n",
              "      gap: 12px;\n",
              "    }\n",
              "\n",
              "    .colab-df-convert {\n",
              "      background-color: #E8F0FE;\n",
              "      border: none;\n",
              "      border-radius: 50%;\n",
              "      cursor: pointer;\n",
              "      display: none;\n",
              "      fill: #1967D2;\n",
              "      height: 32px;\n",
              "      padding: 0 0 0 0;\n",
              "      width: 32px;\n",
              "    }\n",
              "\n",
              "    .colab-df-convert:hover {\n",
              "      background-color: #E2EBFA;\n",
              "      box-shadow: 0px 1px 2px rgba(60, 64, 67, 0.3), 0px 1px 3px 1px rgba(60, 64, 67, 0.15);\n",
              "      fill: #174EA6;\n",
              "    }\n",
              "\n",
              "    [theme=dark] .colab-df-convert {\n",
              "      background-color: #3B4455;\n",
              "      fill: #D2E3FC;\n",
              "    }\n",
              "\n",
              "    [theme=dark] .colab-df-convert:hover {\n",
              "      background-color: #434B5C;\n",
              "      box-shadow: 0px 1px 3px 1px rgba(0, 0, 0, 0.15);\n",
              "      filter: drop-shadow(0px 1px 2px rgba(0, 0, 0, 0.3));\n",
              "      fill: #FFFFFF;\n",
              "    }\n",
              "  </style>\n",
              "\n",
              "      <script>\n",
              "        const buttonEl =\n",
              "          document.querySelector('#df-8a7dd306-b53b-4ac6-8a41-7c814162c689 button.colab-df-convert');\n",
              "        buttonEl.style.display =\n",
              "          google.colab.kernel.accessAllowed ? 'block' : 'none';\n",
              "\n",
              "        async function convertToInteractive(key) {\n",
              "          const element = document.querySelector('#df-8a7dd306-b53b-4ac6-8a41-7c814162c689');\n",
              "          const dataTable =\n",
              "            await google.colab.kernel.invokeFunction('convertToInteractive',\n",
              "                                                     [key], {});\n",
              "          if (!dataTable) return;\n",
              "\n",
              "          const docLinkHtml = 'Like what you see? Visit the ' +\n",
              "            '<a target=\"_blank\" href=https://colab.research.google.com/notebooks/data_table.ipynb>data table notebook</a>'\n",
              "            + ' to learn more about interactive tables.';\n",
              "          element.innerHTML = '';\n",
              "          dataTable['output_type'] = 'display_data';\n",
              "          await google.colab.output.renderOutput(dataTable, element);\n",
              "          const docLink = document.createElement('div');\n",
              "          docLink.innerHTML = docLinkHtml;\n",
              "          element.appendChild(docLink);\n",
              "        }\n",
              "      </script>\n",
              "    </div>\n",
              "  </div>\n"
            ],
            "text/plain": [
              "                                                     0   \\\n",
              "0     [0.35608754, 0.82468987, 0.17659916, 0.5669733...   \n",
              "1     [0.35608754, 0.82468987, 0.17659916, 0.5669733...   \n",
              "2     [0.35608754, 0.82468987, 0.17659916, 0.5669733...   \n",
              "3     [0.35608754, 0.82468987, 0.17659916, 0.5669733...   \n",
              "4     [0.35608754, 0.82468987, 0.17659916, 0.5669733...   \n",
              "...                                                 ...   \n",
              "3864  [0.35608754, 0.82468987, 0.17659916, 0.5669733...   \n",
              "3865  [0.35608754, 0.82468987, 0.17659916, 0.5669733...   \n",
              "3866  [0.35608754, 0.82468987, 0.17659916, 0.5669733...   \n",
              "3867  [0.35608754, 0.82468987, 0.17659916, 0.5669733...   \n",
              "3868  [0.35235533, 0.8212422, 0.1741617, 0.5656758, ...   \n",
              "\n",
              "                                                     1   \\\n",
              "0     [0.35235533, 0.8212422, 0.1741617, 0.5656758, ...   \n",
              "1     [0.35608754, 0.82468987, 0.17659916, 0.5669733...   \n",
              "2     [0.35608754, 0.82468987, 0.17659916, 0.5669733...   \n",
              "3     [0.35608754, 0.82468987, 0.17659916, 0.5669733...   \n",
              "4     [0.35608754, 0.82468987, 0.17659916, 0.5669733...   \n",
              "...                                                 ...   \n",
              "3864  [0.35608754, 0.82468987, 0.17659916, 0.5669733...   \n",
              "3865  [0.35608754, 0.82468987, 0.17659916, 0.5669733...   \n",
              "3866  [0.35608754, 0.82468987, 0.17659916, 0.5669733...   \n",
              "3867  [0.35235533, 0.8212422, 0.1741617, 0.5656758, ...   \n",
              "3868  [0.35608754, 0.82468987, 0.17659916, 0.5669733...   \n",
              "\n",
              "                                                     2   \\\n",
              "0     [0.35235533, 0.8212422, 0.1741617, 0.5656758, ...   \n",
              "1     [0.35608754, 0.82468987, 0.17659916, 0.5669733...   \n",
              "2     [0.35608754, 0.82468987, 0.17659916, 0.5669733...   \n",
              "3     [0.35235533, 0.8212422, 0.1741617, 0.5656758, ...   \n",
              "4     [0.35235533, 0.8212422, 0.1741617, 0.5656758, ...   \n",
              "...                                                 ...   \n",
              "3864  [0.35235533, 0.8212422, 0.1741617, 0.5656758, ...   \n",
              "3865  [0.35235533, 0.8212422, 0.1741617, 0.5656758, ...   \n",
              "3866  [0.35235533, 0.8212422, 0.1741617, 0.5656758, ...   \n",
              "3867  [0.35608754, 0.82468987, 0.17659916, 0.5669733...   \n",
              "3868  [0.35608754, 0.82468987, 0.17659916, 0.5669733...   \n",
              "\n",
              "                                                     3   \\\n",
              "0     [0.35608754, 0.82468987, 0.17659916, 0.5669733...   \n",
              "1     [0.35608754, 0.82468987, 0.17659916, 0.5669733...   \n",
              "2     [0.35235533, 0.8212422, 0.1741617, 0.5656758, ...   \n",
              "3     [0.35608754, 0.82468987, 0.17659916, 0.5669733...   \n",
              "4     [0.35608754, 0.82468987, 0.17659916, 0.5669733...   \n",
              "...                                                 ...   \n",
              "3864  [0.35608754, 0.82468987, 0.17659916, 0.5669733...   \n",
              "3865  [0.35608754, 0.82468987, 0.17659916, 0.5669733...   \n",
              "3866  [0.35608754, 0.82468987, 0.17659916, 0.5669733...   \n",
              "3867  [0.35608754, 0.82468987, 0.17659916, 0.5669733...   \n",
              "3868  [0.35608754, 0.82468987, 0.17659916, 0.5669733...   \n",
              "\n",
              "                                                     4   \\\n",
              "0     [0.35235533, 0.8212422, 0.1741617, 0.5656758, ...   \n",
              "1     [0.35235533, 0.8212422, 0.1741617, 0.5656758, ...   \n",
              "2     [0.35608754, 0.82468987, 0.17659916, 0.5669733...   \n",
              "3     [0.35608754, 0.82468987, 0.17659916, 0.5669733...   \n",
              "4     [0.35608754, 0.82468987, 0.17659916, 0.5669733...   \n",
              "...                                                 ...   \n",
              "3864  [0.35608754, 0.82468987, 0.17659916, 0.5669733...   \n",
              "3865  [0.35608754, 0.82468987, 0.17659916, 0.5669733...   \n",
              "3866  [0.35608754, 0.82468987, 0.17659916, 0.5669733...   \n",
              "3867  [0.35608754, 0.82468987, 0.17659916, 0.5669733...   \n",
              "3868  [0.35608754, 0.82468987, 0.17659916, 0.5669733...   \n",
              "\n",
              "                                                     5   \\\n",
              "0     [0.35608754, 0.82468987, 0.17659916, 0.5669733...   \n",
              "1     [0.35608754, 0.82468987, 0.17659916, 0.5669733...   \n",
              "2     [0.35608754, 0.82468987, 0.17659916, 0.5669733...   \n",
              "3     [0.35608754, 0.82468987, 0.17659916, 0.5669733...   \n",
              "4     [0.35608754, 0.82468987, 0.17659916, 0.5669733...   \n",
              "...                                                 ...   \n",
              "3864  [0.35235533, 0.8212422, 0.1741617, 0.5656758, ...   \n",
              "3865  [0.35608754, 0.82468987, 0.17659916, 0.5669733...   \n",
              "3866  [0.35608754, 0.82468987, 0.17659916, 0.5669733...   \n",
              "3867  [0.35608754, 0.82468987, 0.17659916, 0.5669733...   \n",
              "3868  [0.35608754, 0.82468987, 0.17659916, 0.5669733...   \n",
              "\n",
              "                                                     6   \\\n",
              "0     [0.35235533, 0.8212422, 0.1741617, 0.5656758, ...   \n",
              "1     [0.35235533, 0.8212422, 0.1741617, 0.5656758, ...   \n",
              "2     [0.35235533, 0.8212422, 0.1741617, 0.5656758, ...   \n",
              "3     [0.35235533, 0.8212422, 0.1741617, 0.5656758, ...   \n",
              "4     [0.35235533, 0.8212422, 0.1741617, 0.5656758, ...   \n",
              "...                                                 ...   \n",
              "3864  [0.35235533, 0.8212422, 0.1741617, 0.5656758, ...   \n",
              "3865  [0.35235533, 0.8212422, 0.1741617, 0.5656758, ...   \n",
              "3866  [0.35235533, 0.8212422, 0.1741617, 0.5656758, ...   \n",
              "3867  [0.35608754, 0.82468987, 0.17659916, 0.5669733...   \n",
              "3868  [0.35608754, 0.82468987, 0.17659916, 0.5669733...   \n",
              "\n",
              "                                                     7   \\\n",
              "0     [0.35608754, 0.82468987, 0.17659916, 0.5669733...   \n",
              "1     [0.35608754, 0.82468987, 0.17659916, 0.5669733...   \n",
              "2     [0.35608754, 0.82468987, 0.17659916, 0.5669733...   \n",
              "3     [0.35608754, 0.82468987, 0.17659916, 0.5669733...   \n",
              "4     [0.35608754, 0.82468987, 0.17659916, 0.5669733...   \n",
              "...                                                 ...   \n",
              "3864  [0.35608754, 0.82468987, 0.17659916, 0.5669733...   \n",
              "3865  [0.35608754, 0.82468987, 0.17659916, 0.5669733...   \n",
              "3866  [0.35608754, 0.82468987, 0.17659916, 0.5669733...   \n",
              "3867  [0.35608754, 0.82468987, 0.17659916, 0.5669733...   \n",
              "3868  [0.35608754, 0.82468987, 0.17659916, 0.5669733...   \n",
              "\n",
              "                                                     8   \\\n",
              "0     [0.35608754, 0.82468987, 0.17659916, 0.5669733...   \n",
              "1     [0.35608754, 0.82468987, 0.17659916, 0.5669733...   \n",
              "2     [0.35235533, 0.8212422, 0.1741617, 0.5656758, ...   \n",
              "3     [0.35235533, 0.8212422, 0.1741617, 0.5656758, ...   \n",
              "4     [0.35235533, 0.8212422, 0.1741617, 0.5656758, ...   \n",
              "...                                                 ...   \n",
              "3864  [0.35608754, 0.82468987, 0.17659916, 0.5669733...   \n",
              "3865  [0.35608754, 0.82468987, 0.17659916, 0.5669733...   \n",
              "3866  [0.35235533, 0.8212422, 0.1741617, 0.5656758, ...   \n",
              "3867  [0.35608754, 0.82468987, 0.17659916, 0.5669733...   \n",
              "3868  [0.35608754, 0.82468987, 0.17659916, 0.5669733...   \n",
              "\n",
              "                                                     9   \\\n",
              "0     [0.35608754, 0.82468987, 0.17659916, 0.5669733...   \n",
              "1     [0.35608754, 0.82468987, 0.17659916, 0.5669733...   \n",
              "2     [0.35608754, 0.82468987, 0.17659916, 0.5669733...   \n",
              "3     [0.35608754, 0.82468987, 0.17659916, 0.5669733...   \n",
              "4     [0.35608754, 0.82468987, 0.17659916, 0.5669733...   \n",
              "...                                                 ...   \n",
              "3864  [0.35608754, 0.82468987, 0.17659916, 0.5669733...   \n",
              "3865  [0.35608754, 0.82468987, 0.17659916, 0.5669733...   \n",
              "3866  [0.35608754, 0.82468987, 0.17659916, 0.5669733...   \n",
              "3867  [0.35608754, 0.82468987, 0.17659916, 0.5669733...   \n",
              "3868  [0.35608754, 0.82468987, 0.17659916, 0.5669733...   \n",
              "\n",
              "                                                     10  \n",
              "0     [0.35608754, 0.82468987, 0.17659916, 0.5669733...  \n",
              "1     [0.35608754, 0.82468987, 0.17659916, 0.5669733...  \n",
              "2     [0.35235533, 0.8212422, 0.1741617, 0.5656758, ...  \n",
              "3     [0.35608754, 0.82468987, 0.17659916, 0.5669733...  \n",
              "4     [0.35235533, 0.8212422, 0.1741617, 0.5656758, ...  \n",
              "...                                                 ...  \n",
              "3864  [0.35608754, 0.82468987, 0.17659916, 0.5669733...  \n",
              "3865  [0.35608754, 0.82468987, 0.17659916, 0.5669733...  \n",
              "3866  [0.35235533, 0.8212422, 0.1741617, 0.5656758, ...  \n",
              "3867  [0.35608754, 0.82468987, 0.17659916, 0.5669733...  \n",
              "3868  [0.35608754, 0.82468987, 0.17659916, 0.5669733...  \n",
              "\n",
              "[3869 rows x 11 columns]"
            ]
          },
          "execution_count": 39,
          "metadata": {},
          "output_type": "execute_result"
        }
      ],
      "source": [
        "target_vectors_df"
      ]
    },
    {
      "cell_type": "code",
      "execution_count": null,
      "metadata": {
        "colab": {
          "base_uri": "https://localhost:8080/"
        },
        "id": "FElqT41wAIb3",
        "outputId": "515a5d3f-fcc6-4932-8032-8967512cabb1"
      },
      "outputs": [
        {
          "name": "stdout",
          "output_type": "stream",
          "text": [
            "      0   1   2   3   4   5   6  7   8  9   10\n",
            "0      و  در  در   و  در   و  در  و   و  و   و\n",
            "1      و   و   و   و  در   و  در  و   و  و   و\n",
            "2      و   و   و  در   و   و  در  و  در  و  در\n",
            "3      و   و  در   و   و   و  در  و  در  و   و\n",
            "4      و   و  در   و   و   و  در  و  در  و  در\n",
            "...   ..  ..  ..  ..  ..  ..  .. ..  .. ..  ..\n",
            "3864   و   و  در   و   و  در  در  و   و  و   و\n",
            "3865   و   و  در   و   و   و  در  و   و  و   و\n",
            "3866   و   و  در   و   و   و  در  و  در  و  در\n",
            "3867   و  در   و   و   و   و   و  و   و  و   و\n",
            "3868  در   و   و   و   و   و   و  و   و  و   و\n",
            "\n",
            "[3869 rows x 11 columns]\n"
          ]
        }
      ],
      "source": [
        "def vector_to_text(vector):\n",
        "    similar_words = model.wv.similar_by_vector(vector, topn=1)\n",
        "    return similar_words[0][0]\n",
        "\n",
        "# Convert the numeric values back to text\n",
        "text_vectors = target_vectors_df.applymap(vector_to_text)\n",
        "\n",
        "# Display the DataFrame with text vectors\n",
        "print(text_vectors)"
      ]
    },
    {
      "cell_type": "code",
      "execution_count": null,
      "metadata": {
        "colab": {
          "base_uri": "https://localhost:8080/"
        },
        "id": "4Etc4yIS8dGw",
        "outputId": "70c46030-4fe5-48b2-e7be-3e256a7b1170"
      },
      "outputs": [
        {
          "name": "stderr",
          "output_type": "stream",
          "text": [
            "WARNING:gensim.models.word2vec:Effective 'alpha' higher than previous training cycles\n"
          ]
        },
        {
          "data": {
            "text/plain": [
              "(1343379, 1601060)"
            ]
          },
          "execution_count": 21,
          "metadata": {},
          "output_type": "execute_result"
        }
      ],
      "source": [
        "model.train(df['data_tokenized'],\n",
        "               total_examples=len(df['data_tokenized']),\n",
        "               epochs=10)"
      ]
    },
    {
      "cell_type": "code",
      "execution_count": null,
      "metadata": {
        "colab": {
          "base_uri": "https://localhost:8080/"
        },
        "id": "9HNxz9ZU9UmP",
        "outputId": "3cd9d62f-eb28-4dae-dfa1-7c78c5e4c3fe"
      },
      "outputs": [
        {
          "data": {
            "text/plain": [
              "[('وجود', 0.9993520379066467),\n",
              " ('برابر', 0.9993158578872681),\n",
              " ('نمی\\u200cشود', 0.9993118047714233),\n",
              " ('تولید', 0.9993026852607727),\n",
              " ('حفظ', 0.99929279088974)]"
            ]
          },
          "execution_count": 27,
          "metadata": {},
          "output_type": "execute_result"
        }
      ],
      "source": []
    },
    {
      "cell_type": "code",
      "execution_count": null,
      "metadata": {
        "id": "OLOv2ZOAd392"
      },
      "outputs": [],
      "source": [
        "# from sklearn.manifold import TSNE\n",
        "# import matplotlib.pyplot as plt\n",
        "\n",
        "# words = model.wv.index_to_key\n",
        "# word_vectors = model.wv[words]\n",
        "\n",
        "# tsne = TSNE(n_components=2, random_state=42)\n",
        "# word_vectors_tsne = tsne.fit_transform(word_vectors)\n",
        "\n",
        "# plt.figure(figsize=(10, 10))\n",
        "# for i, word in enumerate(words):\n",
        "#     x, y = word_vectors_tsne[i, :]\n",
        "#     plt.scatter(x, y)\n",
        "#     plt.annotate(word, xy=(x, y), xytext=(5, 2), textcoords='offset points', ha='right', va='bottom')\n",
        "# plt.show()"
      ]
    },
    {
      "cell_type": "code",
      "execution_count": null,
      "metadata": {
        "id": "eeMA2-yri5Tv"
      },
      "outputs": [],
      "source": [
        "model.save('persian_word2vec.model')"
      ]
    },
    {
      "cell_type": "code",
      "execution_count": null,
      "metadata": {
        "id": "mTJo4169i9nE"
      },
      "outputs": [],
      "source": [
        "word2vec_model = Word2Vec.load('persian_word2vec.model')"
      ]
    },
    {
      "cell_type": "code",
      "execution_count": null,
      "metadata": {
        "id": "AoFxnOx4i_q5"
      },
      "outputs": [],
      "source": [
        "# word_vectors = word2vec_model.wv\n",
        "word_vectors = model.wv"
      ]
    },
    {
      "cell_type": "code",
      "execution_count": null,
      "metadata": {
        "id": "zzX2di3rhOla"
      },
      "outputs": [],
      "source": [
        "max_sequence_length = len(df['data_tokenized'][df['data_tokenized'].str.len().idxmax()])\n",
        "\n",
        "embedding_layer = Embedding(input_dim=len(word_vectors.key_to_index),\n",
        "                            output_dim=word_vectors.vector_size,\n",
        "                            weights=[word_vectors.vectors],\n",
        "                            input_length=max_sequence_length,\n",
        "                            trainable=False\n",
        "                            )"
      ]
    },
    {
      "cell_type": "markdown",
      "metadata": {},
      "source": [
        "## Extreme learning machine"
      ]
    },
    {
      "cell_type": "code",
      "execution_count": 72,
      "metadata": {},
      "outputs": [
        {
          "ename": "ValueError",
          "evalue": "shapes (3095,68,768) and (68,100) not aligned: 768 (dim 2) != 68 (dim 0)",
          "output_type": "error",
          "traceback": [
            "\u001b[1;31m---------------------------------------------------------------------------\u001b[0m",
            "\u001b[1;31mValueError\u001b[0m                                Traceback (most recent call last)",
            "Cell \u001b[1;32mIn[72], line 16\u001b[0m\n\u001b[0;32m     13\u001b[0m biases \u001b[39m=\u001b[39m np\u001b[39m.\u001b[39mrandom\u001b[39m.\u001b[39muniform(\u001b[39m-\u001b[39m\u001b[39m1\u001b[39m, \u001b[39m1\u001b[39m, n_hidden)\n\u001b[0;32m     15\u001b[0m \u001b[39m# Calculate the hidden layer output\u001b[39;00m\n\u001b[1;32m---> 16\u001b[0m hidden_output \u001b[39m=\u001b[39m np\u001b[39m.\u001b[39;49mdot(X_train, input_weights) \u001b[39m+\u001b[39m biases\n\u001b[0;32m     17\u001b[0m hidden_output \u001b[39m=\u001b[39m np\u001b[39m.\u001b[39mmaximum(hidden_output, \u001b[39m0\u001b[39m)  \u001b[39m# Apply ReLU activation function\u001b[39;00m\n\u001b[0;32m     19\u001b[0m \u001b[39m# Solve the output weights using ridge regression\u001b[39;00m\n",
            "File \u001b[1;32m<__array_function__ internals>:200\u001b[0m, in \u001b[0;36mdot\u001b[1;34m(*args, **kwargs)\u001b[0m\n",
            "\u001b[1;31mValueError\u001b[0m: shapes (3095,68,768) and (68,100) not aligned: 768 (dim 2) != 68 (dim 0)"
          ]
        }
      ],
      "source": [
        "from sklearn.metrics import accuracy_score\n",
        "from sklearn.linear_model import Ridge\n",
        "\n",
        "# Split the dataset into training and testing sets\n",
        "# X_train, X_test, y_train, y_test = train_test_split(embeddings, df.iloc[:, 3:14], test_size=0.2, random_state=42)\n",
        "\n",
        "\n",
        "# Define the number of hidden neurons\n",
        "n_hidden = 100\n",
        "\n",
        "# Generate random input weights and biases\n",
        "input_weights = np.random.uniform(-1, 1, (X_train.shape[1], n_hidden))\n",
        "biases = np.random.uniform(-1, 1, n_hidden)\n",
        "\n",
        "# Calculate the hidden layer output\n",
        "hidden_output = np.dot(X_train, input_weights) + biases\n",
        "hidden_output = np.maximum(hidden_output, 0)  # Apply ReLU activation function\n",
        "\n",
        "# Solve the output weights using ridge regression\n",
        "output_weights = np.dot(np.linalg.pinv(hidden_output), y_train)\n",
        "\n",
        "# Calculate the testing hidden layer output\n",
        "hidden_output_test = np.dot(X_test, input_weights) + biases\n",
        "hidden_output_test = np.maximum(hidden_output_test, 0)  # Apply ReLU activation function\n",
        "\n",
        "# Predict the testing labels\n",
        "y_pred = np.dot(hidden_output_test, output_weights)\n",
        "y_pred = np.exp(y_pred) / np.sum(np.exp(y_pred), axis=1, keepdims=True) \n",
        "\n",
        "# Convert the predictions to class labels\n",
        "y_pred = np.argmax(y_pred, axis=1)\n",
        "\n",
        "# Calculate the accuracy score\n",
        "accuracy = accuracy_score(y_test, y_pred)\n",
        "print(\"Accuracy:\", accuracy)"
      ]
    },
    {
      "cell_type": "markdown",
      "metadata": {
        "id": "GPv5J0FchGlU"
      },
      "source": [
        "## LSTM"
      ]
    },
    {
      "cell_type": "code",
      "execution_count": 38,
      "metadata": {
        "id": "3tew2RSTkfZ8"
      },
      "outputs": [],
      "source": [
        "X = embeddings\n",
        "y = df.iloc[:, 3:14]\n",
        "\n",
        "X_train, X_test, y_train, y_test = train_test_split(X, y, test_size=0.2, random_state=42)"
      ]
    },
    {
      "cell_type": "code",
      "execution_count": null,
      "metadata": {
        "id": "FAJklN6zoHzH"
      },
      "outputs": [],
      "source": [
        "# class_distribution = np.sum(y_train, axis=0) / y_train.shape[0]\n",
        "\n",
        "# class_weights = 1 / (class_distribution + 1e-6)\n",
        "# class_weights /= np.sum(class_weights)\n",
        "\n",
        "# class_weights_dict = dict(enumerate(class_weights))"
      ]
    },
    {
      "cell_type": "code",
      "execution_count": null,
      "metadata": {
        "id": "ERsd1vOEqutk"
      },
      "outputs": [],
      "source": [
        "# small_details_weight = 2.0\n",
        "\n",
        "# model.add(LSTM(units=128, return_sequences=True))\n",
        "# model.add(Dropout(0.2))\n",
        "\n",
        "# model.add(LSTM(units=64, return_sequences=True))\n",
        "# model.add(Dropout(0.2))\n",
        "\n",
        "# model.add(LSTM(units=32))\n",
        "# model.add(Dropout(0.2))\n",
        "\n",
        "# model.add(Dense(11, activation='relu', kernel_regularizer=regularizers.l2(0.01)))\n",
        "\n",
        "# # Use Focal Loss as the loss function\n",
        "# def focal_loss(gamma=2.0, alpha=0.25):\n",
        "#     def focal_loss_fn(y_true, y_pred):\n",
        "#         ce_loss = CategoricalCrossentropy()(y_true, y_pred)\n",
        "#         pt = K.exp(-ce_loss)\n",
        "#         focal_loss = alpha * K.pow(1 - pt, gamma) * ce_loss\n",
        "#         return focal_loss\n",
        "#     return focal_loss_fn\n",
        "\n",
        "# model.compile(loss=focal_loss(), optimizer=Adam(learning_rate=0.001), metrics=['accuracy'])\n",
        "\n",
        "# model.fit(X_train, y_train, epochs=100, batch_size=32)\n",
        "\n",
        "# loss, accuracy = model.evaluate(X_test, y_test)\n",
        "# print('Test loss:', loss)\n",
        "# print('Test accuracy:', accuracy)"
      ]
    },
    {
      "cell_type": "code",
      "execution_count": 70,
      "metadata": {
        "id": "EoMGHDaUka2_"
      },
      "outputs": [],
      "source": [
        "model = Sequential()\n",
        "\n",
        "model.add(LSTM(\n",
        "              units=32,\n",
        "              activation='tanh',\n",
        "              recurrent_activation='hard_sigmoid',\n",
        "              return_sequences=True\n",
        "              ))\n",
        "model.add(LayerNormalization(\n",
        "                            axis=-1,\n",
        "                            epsilon=0.001,\n",
        "                            center=True,\n",
        "                            scale=True,\n",
        "                            beta_initializer='zeros',\n",
        "                            gamma_initializer='ones',\n",
        "                            beta_regularizer=None,\n",
        "                            gamma_regularizer=None,\n",
        "                            beta_constraint=None,\n",
        "                            gamma_constraint=None\n",
        "                            ))\n",
        "# model.add(Dropout(0.1))\n",
        "# model.add(LSTM(units=64, return_sequences=True))\n",
        "model.add(LSTM(units=24))\n",
        "\n",
        "model.add(Dense(11, activation='softmax'))\n",
        "\n",
        "model.compile(loss='categorical_crossentropy', optimizer=Adam(learning_rate=0.001), metrics=['accuracy']) #sample_weight_mode=class_weights_dict"
      ]
    },
    {
      "cell_type": "code",
      "execution_count": null,
      "metadata": {},
      "outputs": [],
      "source": [
        "model.fit(X_train, y_train, epochs=100, batch_size=32)"
      ]
    },
    {
      "cell_type": "code",
      "execution_count": null,
      "metadata": {},
      "outputs": [],
      "source": [
        "loss, accuracy = model.evaluate(X_test, y_test)\n",
        "print('Test loss:', loss)\n",
        "print('Test accuracy:', accuracy)"
      ]
    },
    {
      "cell_type": "code",
      "execution_count": 27,
      "metadata": {
        "colab": {
          "base_uri": "https://localhost:8080/"
        },
        "id": "uC89gslNo_1z",
        "outputId": "6b9ffa2e-d86f-45e9-8379-d59437420f11"
      },
      "outputs": [
        {
          "name": "stdout",
          "output_type": "stream",
          "text": [
            "25/25 [==============================] - 9s 356ms/step\n",
            "Precision: 0.4691358024691358\n",
            "Recall: 0.023543990086741014\n",
            "F-score: 0.04483775811209439\n"
          ]
        }
      ],
      "source": [
        "y_pred = model.predict(X_test)\n",
        "\n",
        "threshold = 0.5\n",
        "y_test_threshold = (y_test > threshold).astype(int)\n",
        "y_pred_threshold = (y_pred > threshold).astype(int)\n",
        "\n",
        "precision, recall, f_score, _ = precision_recall_fscore_support(y_test_threshold, y_pred_threshold, average='micro')\n",
        "\n",
        "print('Precision:', precision)\n",
        "print('Recall:', recall)\n",
        "print('F-score:', f_score)"
      ]
    },
    {
      "cell_type": "code",
      "execution_count": 26,
      "metadata": {
        "colab": {
          "base_uri": "https://localhost:8080/"
        },
        "id": "i1N9x8t341wH",
        "outputId": "b810ca16-1584-49ef-c1b8-00778cc5d82a"
      },
      "outputs": [
        {
          "name": "stdout",
          "output_type": "stream",
          "text": [
            "              precision    recall  f1-score   support\n",
            "\n",
            "           0       1.00      0.00      0.00       189\n",
            "           1       1.00      0.00      0.00       111\n",
            "           2       1.00      0.00      0.00       397\n",
            "           3       0.00      0.00      1.00        65\n",
            "           4       0.00      0.00      1.00        50\n",
            "           5       0.00      0.00      1.00        84\n",
            "           6       0.57      0.58      0.58       391\n",
            "           7       0.00      0.00      1.00        26\n",
            "           8       0.12      0.04      0.05       141\n",
            "           9       1.00      0.00      0.00        25\n",
            "          10       1.00      0.00      0.00       135\n",
            "\n",
            "   micro avg       0.51      0.14      0.22      1614\n",
            "   macro avg       0.52      0.06      0.42      1614\n",
            "weighted avg       0.68      0.14      0.28      1614\n",
            " samples avg       0.72      0.12      0.45      1614\n",
            "\n"
          ]
        }
      ],
      "source": [
        "report = classification_report(y_test_threshold, y_pred_threshold, zero_division=1)\n",
        "print(report)\n",
        "# with open('classification_report.txt', \"w\") as file:\n",
        "#     file.write(report)"
      ]
    },
    {
      "cell_type": "code",
      "execution_count": null,
      "metadata": {
        "colab": {
          "base_uri": "https://localhost:8080/",
          "height": 523
        },
        "id": "owOcxQ4O7q7H",
        "outputId": "7ff5eeeb-99aa-4254-f341-c2c539e1f13d"
      },
      "outputs": [
        {
          "data": {
            "image/png": "[encoded data removed]",
            "text/plain": [
              "<Figure size 1000x600 with 1 Axes>"
            ]
          },
          "metadata": {},
          "output_type": "display_data"
        }
      ],
      "source": [
        "class_labels = list(report.keys())[:-4]\n",
        "metrics = ['precision', 'recall', 'f1-score']\n",
        "\n",
        "metric_values = {metric: [] for metric in metrics}\n",
        "\n",
        "for label in class_labels:\n",
        "    for metric in metrics:\n",
        "        metric_values[metric].append(report[label][metric])\n",
        "\n",
        "x = np.arange(len(class_labels))\n",
        "width = 0.2\n",
        "fig, ax = plt.subplots(figsize=(10, 6))\n",
        "\n",
        "for i, metric in enumerate(metrics):\n",
        "    ax.bar(x + (i * width), metric_values[metric], width, align='center', label=metric)\n",
        "\n",
        "ax.set_xlabel('Class')\n",
        "ax.set_ylabel('Metric Value')\n",
        "ax.set_title('Metrics by Class')\n",
        "ax.set_xticks(x)\n",
        "ax.set_xticklabels(class_labels, rotation=45)\n",
        "ax.legend()\n",
        "\n",
        "plt.tight_layout()\n",
        "plt.show()"
      ]
    },
    {
      "cell_type": "code",
      "execution_count": null,
      "metadata": {
        "colab": {
          "base_uri": "https://localhost:8080/"
        },
        "id": "CqY9D8Cts5dw",
        "outputId": "416e3a81-1882-4ae7-8c60-a193748ed7c1"
      },
      "outputs": [
        {
          "name": "stdout",
          "output_type": "stream",
          "text": [
            "Model: \"sequential_1\"\n",
            "_________________________________________________________________\n",
            " Layer (type)                Output Shape              Param #   \n",
            "=================================================================\n",
            " lstm (LSTM)                 (None, 68, 128)           459264    \n",
            "                                                                 \n",
            " lstm_1 (LSTM)               (None, 68, 64)            49408     \n",
            "                                                                 \n",
            " lstm_2 (LSTM)               (None, 32)                12416     \n",
            "                                                                 \n",
            " dense (Dense)               (None, 11)                363       \n",
            "                                                                 \n",
            "=================================================================\n",
            "Total params: 521,451\n",
            "Trainable params: 521,451\n",
            "Non-trainable params: 0\n",
            "_________________________________________________________________\n"
          ]
        }
      ],
      "source": [
        "model.summary()"
      ]
    },
    {
      "cell_type": "code",
      "execution_count": null,
      "metadata": {
        "id": "bR8xGLa8x7Rt"
      },
      "outputs": [],
      "source": [
        "model.save('keras_lstm_model.h5')"
      ]
    },
    {
      "cell_type": "code",
      "execution_count": 74,
      "metadata": {},
      "outputs": [
        {
          "ename": "ModuleNotFoundError",
          "evalue": "No module named 'keras.wrappers'",
          "output_type": "error",
          "traceback": [
            "\u001b[1;31m---------------------------------------------------------------------------\u001b[0m",
            "\u001b[1;31mModuleNotFoundError\u001b[0m                       Traceback (most recent call last)",
            "Cell \u001b[1;32mIn[74], line 2\u001b[0m\n\u001b[0;32m      1\u001b[0m \u001b[39mimport\u001b[39;00m \u001b[39mtensorflow\u001b[39;00m \u001b[39mas\u001b[39;00m \u001b[39mtf\u001b[39;00m\n\u001b[1;32m----> 2\u001b[0m \u001b[39mfrom\u001b[39;00m \u001b[39mkeras\u001b[39;00m\u001b[39m.\u001b[39;00m\u001b[39mwrappers\u001b[39;00m\u001b[39m.\u001b[39;00m\u001b[39mscikit_learn\u001b[39;00m \u001b[39mimport\u001b[39;00m KerasClassifier\n\u001b[0;32m      3\u001b[0m \u001b[39mfrom\u001b[39;00m \u001b[39msklearn\u001b[39;00m\u001b[39m.\u001b[39;00m\u001b[39mmodel_selection\u001b[39;00m \u001b[39mimport\u001b[39;00m GridSearchCV\n\u001b[0;32m      4\u001b[0m \u001b[39mfrom\u001b[39;00m \u001b[39msklearn\u001b[39;00m\u001b[39m.\u001b[39;00m\u001b[39mpreprocessing\u001b[39;00m \u001b[39mimport\u001b[39;00m StandardScaler\n",
            "\u001b[1;31mModuleNotFoundError\u001b[0m: No module named 'keras.wrappers'"
          ]
        }
      ],
      "source": [
        "import tensorflow as tf\n",
        "from keras.wrappers.scikit_learn import KerasClassifier\n",
        "from sklearn.model_selection import GridSearchCV\n",
        "from sklearn.preprocessing import StandardScaler\n",
        "from sklearn.pipeline import Pipeline\n",
        "from tensorflow.keras.models import Sequential\n",
        "from tensorflow.keras.layers import LSTM, Dropout, Dense\n",
        "from tensorflow.keras.optimizers import Adam\n",
        "from tensorflow.keras.callbacks import EarlyStopping\n",
        "\n",
        "def create_model(optimizer='adam', activation='sigmoid', dropout_rate=0.0, lstm_units=32):\n",
        "    model = Sequential()\n",
        "    model.add(LSTM(\n",
        "                units=lstm_units,\n",
        "                activation=activation,\n",
        "                recurrent_activation='hard_sigmoid',\n",
        "                return_sequences=True\n",
        "                ))\n",
        "    model.add(Dropout(rate=dropout_rate))\n",
        "    model.add(LSTM(units=lstm_units))\n",
        "    model.add(Dense(11, activation=activation))\n",
        "\n",
        "    model.compile(loss='categorical_crossentropy', optimizer=optimizer, metrics=['accuracy'])\n",
        "    return model\n",
        "\n",
        "pipeline = Pipeline([\n",
        "    ('scaler', StandardScaler()),\n",
        "    ('model', KerasClassifier(build_fn=create_model, verbose=1))\n",
        "])\n",
        "\n",
        "param_grid = {\n",
        "    'model__optimizer': ['adam', 'rmsprop', 'sgd', 'adagrad', 'adadelta', 'adamax', 'nadam'],\n",
        "    'model__activation': ['relu', 'sigmoid', 'softmax', 'tanh', 'linear', 'elu', 'selu', 'softplus', 'hard_sigmoid'],\n",
        "    'model__dropout_rate': [0.0, 0.1, 0.2, 0.3, 0.4, 0.5, 0.6, 0.7, 0.8, 0.9],\n",
        "    'model__lstm_units': [16, 32, 64, 128],\n",
        "    'model__batch_size': [16, 32, 64]\n",
        "}\n",
        "\n",
        "# Perform grid search with cross-validation\n",
        "grid = GridSearchCV(estimator=pipeline, param_grid=param_grid, cv=3)\n",
        "grid_result = grid.fit(X_train, y_train, callbacks=[EarlyStopping(patience=5)])\n",
        "\n",
        "# Print the best results\n",
        "print(\"Best: %f using %s\" % (grid_result.best_score_, grid_result.best_params_))"
      ]
    }
  ],
  "metadata": {
    "colab": {
      "collapsed_sections": [
        "hVuQSjzp9DMz",
        "CWQobiKu4-kG",
        "RYNB6AkK5C50",
        "4_6uN2mHgK4P"
      ],
      "provenance": []
    },
    "kernelspec": {
      "display_name": "Python 3",
      "name": "python3"
    },
    "language_info": {
      "codemirror_mode": {
        "name": "ipython",
        "version": 3
      },
      "file_extension": ".py",
      "mimetype": "text/x-python",
      "name": "python",
      "nbconvert_exporter": "python",
      "pygments_lexer": "ipython3",
      "version": "3.11.4"
    }
  },
  "nbformat": 4,
  "nbformat_minor": 0
}
