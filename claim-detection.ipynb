{
 "cells": [
  {
   "cell_type": "markdown",
   "id": "8b162b55",
   "metadata": {
    "papermill": {
     "duration": 0.010788,
     "end_time": "2023-08-05T18:04:55.575766",
     "exception": false,
     "start_time": "2023-08-05T18:04:55.564978",
     "status": "completed"
    },
    "tags": []
   },
   "source": [
    "## Importing libraries"
   ]
  },
  {
   "cell_type": "code",
   "execution_count": 1,
   "id": "43d1169b",
   "metadata": {
    "execution": {
     "iopub.execute_input": "2023-08-05T18:04:55.598985Z",
     "iopub.status.busy": "2023-08-05T18:04:55.597615Z",
     "iopub.status.idle": "2023-08-05T18:05:12.868217Z",
     "shell.execute_reply": "2023-08-05T18:05:12.866496Z"
    },
    "papermill": {
     "duration": 17.285746,
     "end_time": "2023-08-05T18:05:12.871486",
     "exception": false,
     "start_time": "2023-08-05T18:04:55.585740",
     "status": "completed"
    },
    "tags": []
   },
   "outputs": [
    {
     "name": "stdout",
     "output_type": "stream",
     "text": [
      "Collecting tweepy\r\n",
      "  Downloading tweepy-4.14.0-py3-none-any.whl (98 kB)\r\n",
      "\u001b[2K     \u001b[90m━━━━━━━━━━━━━━━━━━━━━━━━━━━━━━━━━━━━━━━━\u001b[0m \u001b[32m98.5/98.5 kB\u001b[0m \u001b[31m4.6 MB/s\u001b[0m eta \u001b[36m0:00:00\u001b[0m\r\n",
      "\u001b[?25hRequirement already satisfied: oauthlib<4,>=3.2.0 in /opt/conda/lib/python3.10/site-packages (from tweepy) (3.2.2)\r\n",
      "Requirement already satisfied: requests<3,>=2.27.0 in /opt/conda/lib/python3.10/site-packages (from tweepy) (2.31.0)\r\n",
      "Requirement already satisfied: requests-oauthlib<2,>=1.2.0 in /opt/conda/lib/python3.10/site-packages (from tweepy) (1.3.1)\r\n",
      "Requirement already satisfied: charset-normalizer<4,>=2 in /opt/conda/lib/python3.10/site-packages (from requests<3,>=2.27.0->tweepy) (3.1.0)\r\n",
      "Requirement already satisfied: idna<4,>=2.5 in /opt/conda/lib/python3.10/site-packages (from requests<3,>=2.27.0->tweepy) (3.4)\r\n",
      "Requirement already satisfied: urllib3<3,>=1.21.1 in /opt/conda/lib/python3.10/site-packages (from requests<3,>=2.27.0->tweepy) (1.26.15)\r\n",
      "Requirement already satisfied: certifi>=2017.4.17 in /opt/conda/lib/python3.10/site-packages (from requests<3,>=2.27.0->tweepy) (2023.5.7)\r\n",
      "Installing collected packages: tweepy\r\n",
      "Successfully installed tweepy-4.14.0\r\n"
     ]
    }
   ],
   "source": [
    "!pip install tweepy"
   ]
  },
  {
   "cell_type": "code",
   "execution_count": 2,
   "id": "4e337b6f",
   "metadata": {
    "execution": {
     "iopub.execute_input": "2023-08-05T18:05:12.895112Z",
     "iopub.status.busy": "2023-08-05T18:05:12.894618Z",
     "iopub.status.idle": "2023-08-05T18:05:12.946827Z",
     "shell.execute_reply": "2023-08-05T18:05:12.945346Z"
    },
    "papermill": {
     "duration": 0.067818,
     "end_time": "2023-08-05T18:05:12.950163",
     "exception": false,
     "start_time": "2023-08-05T18:05:12.882345",
     "status": "completed"
    },
    "tags": []
   },
   "outputs": [],
   "source": [
    "import pandas as pd\n",
    "import tweepy\n",
    "import requests"
   ]
  },
  {
   "cell_type": "markdown",
   "id": "fdbfa03f",
   "metadata": {
    "papermill": {
     "duration": 0.009983,
     "end_time": "2023-08-05T18:05:12.971008",
     "exception": false,
     "start_time": "2023-08-05T18:05:12.961025",
     "status": "completed"
    },
    "tags": []
   },
   "source": [
    "## Reading the dataset"
   ]
  },
  {
   "cell_type": "code",
   "execution_count": 3,
   "id": "6a3c7cbb",
   "metadata": {
    "execution": {
     "iopub.execute_input": "2023-08-05T18:05:12.996737Z",
     "iopub.status.busy": "2023-08-05T18:05:12.995252Z",
     "iopub.status.idle": "2023-08-05T18:05:13.043457Z",
     "shell.execute_reply": "2023-08-05T18:05:13.042215Z"
    },
    "papermill": {
     "duration": 0.064049,
     "end_time": "2023-08-05T18:05:13.046667",
     "exception": false,
     "start_time": "2023-08-05T18:05:12.982618",
     "status": "completed"
    },
    "tags": []
   },
   "outputs": [],
   "source": [
    "df = pd.read_csv('/kaggle/input/persian-claim-detection/2.train_data_id.csv')"
   ]
  },
  {
   "cell_type": "code",
   "execution_count": 4,
   "id": "27e4bfed",
   "metadata": {
    "execution": {
     "iopub.execute_input": "2023-08-05T18:05:13.070956Z",
     "iopub.status.busy": "2023-08-05T18:05:13.070541Z",
     "iopub.status.idle": "2023-08-05T18:05:13.106871Z",
     "shell.execute_reply": "2023-08-05T18:05:13.105337Z"
    },
    "papermill": {
     "duration": 0.051329,
     "end_time": "2023-08-05T18:05:13.110079",
     "exception": false,
     "start_time": "2023-08-05T18:05:13.058750",
     "status": "completed"
    },
    "tags": []
   },
   "outputs": [
    {
     "data": {
      "text/html": [
       "<div>\n",
       "<style scoped>\n",
       "    .dataframe tbody tr th:only-of-type {\n",
       "        vertical-align: middle;\n",
       "    }\n",
       "\n",
       "    .dataframe tbody tr th {\n",
       "        vertical-align: top;\n",
       "    }\n",
       "\n",
       "    .dataframe thead th {\n",
       "        text-align: right;\n",
       "    }\n",
       "</style>\n",
       "<table border=\"1\" class=\"dataframe\">\n",
       "  <thead>\n",
       "    <tr style=\"text-align: right;\">\n",
       "      <th></th>\n",
       "      <th>local_id</th>\n",
       "      <th>tweet_id</th>\n",
       "      <th>Not Claim</th>\n",
       "      <th>Trait</th>\n",
       "      <th>Action</th>\n",
       "      <th>Support/Oppose</th>\n",
       "      <th>Prediction</th>\n",
       "      <th>Quantity</th>\n",
       "      <th>Causation/Correlation</th>\n",
       "      <th>Rule/Law</th>\n",
       "      <th>Quote</th>\n",
       "      <th>Other Claim</th>\n",
       "      <th>Comparision</th>\n",
       "    </tr>\n",
       "  </thead>\n",
       "  <tbody>\n",
       "    <tr>\n",
       "      <th>0</th>\n",
       "      <td>4124</td>\n",
       "      <td>1475001158485880840</td>\n",
       "      <td>0</td>\n",
       "      <td>1</td>\n",
       "      <td>1</td>\n",
       "      <td>0</td>\n",
       "      <td>1</td>\n",
       "      <td>0</td>\n",
       "      <td>1</td>\n",
       "      <td>0</td>\n",
       "      <td>0</td>\n",
       "      <td>0</td>\n",
       "      <td>0</td>\n",
       "    </tr>\n",
       "    <tr>\n",
       "      <th>1</th>\n",
       "      <td>4093</td>\n",
       "      <td>1402703775261986821</td>\n",
       "      <td>0</td>\n",
       "      <td>0</td>\n",
       "      <td>0</td>\n",
       "      <td>0</td>\n",
       "      <td>1</td>\n",
       "      <td>0</td>\n",
       "      <td>1</td>\n",
       "      <td>0</td>\n",
       "      <td>0</td>\n",
       "      <td>0</td>\n",
       "      <td>0</td>\n",
       "    </tr>\n",
       "    <tr>\n",
       "      <th>2</th>\n",
       "      <td>1187</td>\n",
       "      <td>1359443404413927426</td>\n",
       "      <td>0</td>\n",
       "      <td>0</td>\n",
       "      <td>0</td>\n",
       "      <td>1</td>\n",
       "      <td>0</td>\n",
       "      <td>0</td>\n",
       "      <td>1</td>\n",
       "      <td>0</td>\n",
       "      <td>1</td>\n",
       "      <td>0</td>\n",
       "      <td>1</td>\n",
       "    </tr>\n",
       "    <tr>\n",
       "      <th>3</th>\n",
       "      <td>4585</td>\n",
       "      <td>1259509384369094656</td>\n",
       "      <td>0</td>\n",
       "      <td>0</td>\n",
       "      <td>1</td>\n",
       "      <td>0</td>\n",
       "      <td>0</td>\n",
       "      <td>0</td>\n",
       "      <td>1</td>\n",
       "      <td>0</td>\n",
       "      <td>1</td>\n",
       "      <td>0</td>\n",
       "      <td>0</td>\n",
       "    </tr>\n",
       "    <tr>\n",
       "      <th>4</th>\n",
       "      <td>3398</td>\n",
       "      <td>1475425494048727046</td>\n",
       "      <td>0</td>\n",
       "      <td>0</td>\n",
       "      <td>1</td>\n",
       "      <td>0</td>\n",
       "      <td>0</td>\n",
       "      <td>0</td>\n",
       "      <td>1</td>\n",
       "      <td>0</td>\n",
       "      <td>1</td>\n",
       "      <td>0</td>\n",
       "      <td>1</td>\n",
       "    </tr>\n",
       "    <tr>\n",
       "      <th>...</th>\n",
       "      <td>...</td>\n",
       "      <td>...</td>\n",
       "      <td>...</td>\n",
       "      <td>...</td>\n",
       "      <td>...</td>\n",
       "      <td>...</td>\n",
       "      <td>...</td>\n",
       "      <td>...</td>\n",
       "      <td>...</td>\n",
       "      <td>...</td>\n",
       "      <td>...</td>\n",
       "      <td>...</td>\n",
       "      <td>...</td>\n",
       "    </tr>\n",
       "    <tr>\n",
       "      <th>3864</th>\n",
       "      <td>4471</td>\n",
       "      <td>1437069365158064133</td>\n",
       "      <td>0</td>\n",
       "      <td>0</td>\n",
       "      <td>1</td>\n",
       "      <td>0</td>\n",
       "      <td>0</td>\n",
       "      <td>1</td>\n",
       "      <td>1</td>\n",
       "      <td>0</td>\n",
       "      <td>0</td>\n",
       "      <td>0</td>\n",
       "      <td>0</td>\n",
       "    </tr>\n",
       "    <tr>\n",
       "      <th>3865</th>\n",
       "      <td>2803</td>\n",
       "      <td>1229408932084559872</td>\n",
       "      <td>0</td>\n",
       "      <td>0</td>\n",
       "      <td>1</td>\n",
       "      <td>0</td>\n",
       "      <td>0</td>\n",
       "      <td>0</td>\n",
       "      <td>1</td>\n",
       "      <td>0</td>\n",
       "      <td>0</td>\n",
       "      <td>0</td>\n",
       "      <td>0</td>\n",
       "    </tr>\n",
       "    <tr>\n",
       "      <th>3866</th>\n",
       "      <td>1787</td>\n",
       "      <td>1465063810507718657</td>\n",
       "      <td>0</td>\n",
       "      <td>0</td>\n",
       "      <td>1</td>\n",
       "      <td>0</td>\n",
       "      <td>0</td>\n",
       "      <td>0</td>\n",
       "      <td>1</td>\n",
       "      <td>0</td>\n",
       "      <td>1</td>\n",
       "      <td>0</td>\n",
       "      <td>1</td>\n",
       "    </tr>\n",
       "    <tr>\n",
       "      <th>3867</th>\n",
       "      <td>2415</td>\n",
       "      <td>1475088127031222274</td>\n",
       "      <td>0</td>\n",
       "      <td>1</td>\n",
       "      <td>0</td>\n",
       "      <td>0</td>\n",
       "      <td>0</td>\n",
       "      <td>0</td>\n",
       "      <td>0</td>\n",
       "      <td>0</td>\n",
       "      <td>0</td>\n",
       "      <td>0</td>\n",
       "      <td>0</td>\n",
       "    </tr>\n",
       "    <tr>\n",
       "      <th>3868</th>\n",
       "      <td>1012</td>\n",
       "      <td>1401208463846514690</td>\n",
       "      <td>1</td>\n",
       "      <td>0</td>\n",
       "      <td>0</td>\n",
       "      <td>0</td>\n",
       "      <td>0</td>\n",
       "      <td>0</td>\n",
       "      <td>0</td>\n",
       "      <td>0</td>\n",
       "      <td>0</td>\n",
       "      <td>0</td>\n",
       "      <td>0</td>\n",
       "    </tr>\n",
       "  </tbody>\n",
       "</table>\n",
       "<p>3869 rows × 13 columns</p>\n",
       "</div>"
      ],
      "text/plain": [
       "      local_id             tweet_id  Not Claim  Trait  Action  Support/Oppose  \\\n",
       "0         4124  1475001158485880840          0      1       1               0   \n",
       "1         4093  1402703775261986821          0      0       0               0   \n",
       "2         1187  1359443404413927426          0      0       0               1   \n",
       "3         4585  1259509384369094656          0      0       1               0   \n",
       "4         3398  1475425494048727046          0      0       1               0   \n",
       "...        ...                  ...        ...    ...     ...             ...   \n",
       "3864      4471  1437069365158064133          0      0       1               0   \n",
       "3865      2803  1229408932084559872          0      0       1               0   \n",
       "3866      1787  1465063810507718657          0      0       1               0   \n",
       "3867      2415  1475088127031222274          0      1       0               0   \n",
       "3868      1012  1401208463846514690          1      0       0               0   \n",
       "\n",
       "      Prediction  Quantity  Causation/Correlation  Rule/Law  Quote  \\\n",
       "0              1         0                      1         0      0   \n",
       "1              1         0                      1         0      0   \n",
       "2              0         0                      1         0      1   \n",
       "3              0         0                      1         0      1   \n",
       "4              0         0                      1         0      1   \n",
       "...          ...       ...                    ...       ...    ...   \n",
       "3864           0         1                      1         0      0   \n",
       "3865           0         0                      1         0      0   \n",
       "3866           0         0                      1         0      1   \n",
       "3867           0         0                      0         0      0   \n",
       "3868           0         0                      0         0      0   \n",
       "\n",
       "      Other Claim  Comparision  \n",
       "0               0            0  \n",
       "1               0            0  \n",
       "2               0            1  \n",
       "3               0            0  \n",
       "4               0            1  \n",
       "...           ...          ...  \n",
       "3864            0            0  \n",
       "3865            0            0  \n",
       "3866            0            1  \n",
       "3867            0            0  \n",
       "3868            0            0  \n",
       "\n",
       "[3869 rows x 13 columns]"
      ]
     },
     "execution_count": 4,
     "metadata": {},
     "output_type": "execute_result"
    }
   ],
   "source": [
    "df"
   ]
  },
  {
   "cell_type": "markdown",
   "id": "0e921b1e",
   "metadata": {
    "papermill": {
     "duration": 0.01041,
     "end_time": "2023-08-05T18:05:13.131396",
     "exception": false,
     "start_time": "2023-08-05T18:05:13.120986",
     "status": "completed"
    },
    "tags": []
   },
   "source": [
    "## Retrieving tweet texts"
   ]
  },
  {
   "cell_type": "code",
   "execution_count": 5,
   "id": "dd641b5b",
   "metadata": {
    "execution": {
     "iopub.execute_input": "2023-08-05T18:05:13.155212Z",
     "iopub.status.busy": "2023-08-05T18:05:13.154700Z",
     "iopub.status.idle": "2023-08-05T18:05:13.350330Z",
     "shell.execute_reply": "2023-08-05T18:05:13.348965Z"
    },
    "papermill": {
     "duration": 0.211305,
     "end_time": "2023-08-05T18:05:13.353607",
     "exception": false,
     "start_time": "2023-08-05T18:05:13.142302",
     "status": "completed"
    },
    "tags": []
   },
   "outputs": [
    {
     "name": "stdout",
     "output_type": "stream",
     "text": [
      "Successful Authentication\n"
     ]
    }
   ],
   "source": [
    "api_key = \"MF57jj29G5vWY8SzJF2xII89c\"\n",
    "api_secret = \"PpDm3OjaGJVm3VdOP9MGAUi9Mi2TbQNoHs8CNTCB1uSemziMMO\"\n",
    "access_token = \"1687715736704229377-rVYbHHMNvRWRLKb1y9sY6dvKj67Duk\"\n",
    "access_secret = \"ZVhmPzKiLISzz2UEKuJGQBrXf4mgI2tCMyy2ic1Vx4Pif\"\n",
    "\n",
    "auth = tweepy.OAuthHandler(api_key,api_secret)\n",
    "auth.set_access_token(access_token,access_secret)\n",
    " \n",
    "api = tweepy.API(auth)\n",
    " \n",
    "try:\n",
    "    api.verify_credentials()\n",
    "    print('Successful Authentication')\n",
    "except:\n",
    "    print('Failed authentication')"
   ]
  },
  {
   "cell_type": "code",
   "execution_count": 6,
   "id": "e20b8a34",
   "metadata": {
    "execution": {
     "iopub.execute_input": "2023-08-05T18:05:13.377950Z",
     "iopub.status.busy": "2023-08-05T18:05:13.377478Z",
     "iopub.status.idle": "2023-08-05T18:05:15.072551Z",
     "shell.execute_reply": "2023-08-05T18:05:15.070793Z"
    },
    "papermill": {
     "duration": 1.710143,
     "end_time": "2023-08-05T18:05:15.075432",
     "exception": false,
     "start_time": "2023-08-05T18:05:13.365289",
     "status": "completed"
    },
    "tags": []
   },
   "outputs": [
    {
     "name": "stdout",
     "output_type": "stream",
     "text": [
      "No text field found\n",
      "No text field found\n",
      "No text field found\n",
      "No text field found\n",
      "No text field found\n",
      "No text field found\n",
      "No text field found\n",
      "No text field found\n",
      "No text field found\n",
      "No text field found\n"
     ]
    }
   ],
   "source": [
    "def get_tweet(local_id, tweet_id):\n",
    "    url = \"https://api.twitter.com/1.1/statuses/show.json?id={0}&local_id={1}\".format(tweet_id, local_id)\n",
    "    response = requests.get(url)\n",
    "    json_data = response.json()\n",
    "#     return json_data['text']\n",
    "    if 'text' in json_data:\n",
    "        print(\"Found a text field\")\n",
    "    else:\n",
    "        print(\"No text field found\")\n",
    "\n",
    "df['tweet_text'] = df[:10].apply(lambda row: get_tweet(row['local_id'], row['tweet_id']), axis=1)"
   ]
  },
  {
   "cell_type": "markdown",
   "id": "bc7fb80e",
   "metadata": {
    "papermill": {
     "duration": 0.010758,
     "end_time": "2023-08-05T18:05:15.097267",
     "exception": false,
     "start_time": "2023-08-05T18:05:15.086509",
     "status": "completed"
    },
    "tags": []
   },
   "source": [
    "## Text preprocessing"
   ]
  },
  {
   "cell_type": "markdown",
   "id": "9c8581d7",
   "metadata": {
    "papermill": {
     "duration": 0.010494,
     "end_time": "2023-08-05T18:05:15.118642",
     "exception": false,
     "start_time": "2023-08-05T18:05:15.108148",
     "status": "completed"
    },
    "tags": []
   },
   "source": [
    "### Text cleaning"
   ]
  },
  {
   "cell_type": "code",
   "execution_count": null,
   "id": "2b70e6d7",
   "metadata": {
    "papermill": {
     "duration": 0.010423,
     "end_time": "2023-08-05T18:05:15.139944",
     "exception": false,
     "start_time": "2023-08-05T18:05:15.129521",
     "status": "completed"
    },
    "tags": []
   },
   "outputs": [],
   "source": []
  },
  {
   "cell_type": "markdown",
   "id": "23567884",
   "metadata": {
    "papermill": {
     "duration": 0.010568,
     "end_time": "2023-08-05T18:05:15.161304",
     "exception": false,
     "start_time": "2023-08-05T18:05:15.150736",
     "status": "completed"
    },
    "tags": []
   },
   "source": [
    "### Tokenization"
   ]
  },
  {
   "cell_type": "code",
   "execution_count": null,
   "id": "b2175ba3",
   "metadata": {
    "papermill": {
     "duration": 0.01035,
     "end_time": "2023-08-05T18:05:15.182581",
     "exception": false,
     "start_time": "2023-08-05T18:05:15.172231",
     "status": "completed"
    },
    "tags": []
   },
   "outputs": [],
   "source": []
  },
  {
   "cell_type": "markdown",
   "id": "51c079d5",
   "metadata": {
    "papermill": {
     "duration": 0.010887,
     "end_time": "2023-08-05T18:05:15.204269",
     "exception": false,
     "start_time": "2023-08-05T18:05:15.193382",
     "status": "completed"
    },
    "tags": []
   },
   "source": [
    "### Stemming/lemmatization"
   ]
  },
  {
   "cell_type": "code",
   "execution_count": null,
   "id": "48a8591b",
   "metadata": {
    "papermill": {
     "duration": 0.011116,
     "end_time": "2023-08-05T18:05:15.226855",
     "exception": false,
     "start_time": "2023-08-05T18:05:15.215739",
     "status": "completed"
    },
    "tags": []
   },
   "outputs": [],
   "source": []
  },
  {
   "cell_type": "markdown",
   "id": "b71f7d91",
   "metadata": {
    "papermill": {
     "duration": 0.01094,
     "end_time": "2023-08-05T18:05:15.249610",
     "exception": false,
     "start_time": "2023-08-05T18:05:15.238670",
     "status": "completed"
    },
    "tags": []
   },
   "source": [
    "### Others"
   ]
  },
  {
   "cell_type": "code",
   "execution_count": null,
   "id": "399a212e",
   "metadata": {
    "papermill": {
     "duration": 0.011094,
     "end_time": "2023-08-05T18:05:15.272202",
     "exception": false,
     "start_time": "2023-08-05T18:05:15.261108",
     "status": "completed"
    },
    "tags": []
   },
   "outputs": [],
   "source": []
  },
  {
   "cell_type": "markdown",
   "id": "464c705b",
   "metadata": {
    "papermill": {
     "duration": 0.010984,
     "end_time": "2023-08-05T18:05:15.294385",
     "exception": false,
     "start_time": "2023-08-05T18:05:15.283401",
     "status": "completed"
    },
    "tags": []
   },
   "source": [
    "## Word embedding"
   ]
  },
  {
   "cell_type": "code",
   "execution_count": null,
   "id": "73fb434f",
   "metadata": {
    "papermill": {
     "duration": 0.012068,
     "end_time": "2023-08-05T18:05:15.317585",
     "exception": false,
     "start_time": "2023-08-05T18:05:15.305517",
     "status": "completed"
    },
    "tags": []
   },
   "outputs": [],
   "source": []
  },
  {
   "cell_type": "markdown",
   "id": "f0ae3cfc",
   "metadata": {
    "papermill": {
     "duration": 0.010752,
     "end_time": "2023-08-05T18:05:15.339620",
     "exception": false,
     "start_time": "2023-08-05T18:05:15.328868",
     "status": "completed"
    },
    "tags": []
   },
   "source": [
    "## Machine learning model"
   ]
  },
  {
   "cell_type": "markdown",
   "id": "30248f47",
   "metadata": {
    "papermill": {
     "duration": 0.010801,
     "end_time": "2023-08-05T18:05:15.361761",
     "exception": false,
     "start_time": "2023-08-05T18:05:15.350960",
     "status": "completed"
    },
    "tags": []
   },
   "source": [
    "### Feature selection"
   ]
  },
  {
   "cell_type": "code",
   "execution_count": null,
   "id": "8b88f6b0",
   "metadata": {
    "papermill": {
     "duration": 0.010744,
     "end_time": "2023-08-05T18:05:15.383562",
     "exception": false,
     "start_time": "2023-08-05T18:05:15.372818",
     "status": "completed"
    },
    "tags": []
   },
   "outputs": [],
   "source": []
  },
  {
   "cell_type": "markdown",
   "id": "323b064e",
   "metadata": {
    "papermill": {
     "duration": 0.010774,
     "end_time": "2023-08-05T18:05:15.405561",
     "exception": false,
     "start_time": "2023-08-05T18:05:15.394787",
     "status": "completed"
    },
    "tags": []
   },
   "source": [
    "### Data splitting"
   ]
  },
  {
   "cell_type": "code",
   "execution_count": null,
   "id": "22088dbe",
   "metadata": {
    "papermill": {
     "duration": 0.01085,
     "end_time": "2023-08-05T18:05:15.427547",
     "exception": false,
     "start_time": "2023-08-05T18:05:15.416697",
     "status": "completed"
    },
    "tags": []
   },
   "outputs": [],
   "source": []
  },
  {
   "cell_type": "markdown",
   "id": "279e4498",
   "metadata": {
    "papermill": {
     "duration": 0.010832,
     "end_time": "2023-08-05T18:05:15.449688",
     "exception": false,
     "start_time": "2023-08-05T18:05:15.438856",
     "status": "completed"
    },
    "tags": []
   },
   "source": [
    "### Creating a pipeline"
   ]
  },
  {
   "cell_type": "code",
   "execution_count": null,
   "id": "7a5a7d04",
   "metadata": {
    "papermill": {
     "duration": 0.011378,
     "end_time": "2023-08-05T18:05:15.472330",
     "exception": false,
     "start_time": "2023-08-05T18:05:15.460952",
     "status": "completed"
    },
    "tags": []
   },
   "outputs": [],
   "source": []
  },
  {
   "cell_type": "markdown",
   "id": "bc56d7c5",
   "metadata": {
    "papermill": {
     "duration": 0.010963,
     "end_time": "2023-08-05T18:05:15.494519",
     "exception": false,
     "start_time": "2023-08-05T18:05:15.483556",
     "status": "completed"
    },
    "tags": []
   },
   "source": [
    "### Fitting the model"
   ]
  },
  {
   "cell_type": "code",
   "execution_count": null,
   "id": "cdc29e38",
   "metadata": {
    "papermill": {
     "duration": 0.010838,
     "end_time": "2023-08-05T18:05:15.517008",
     "exception": false,
     "start_time": "2023-08-05T18:05:15.506170",
     "status": "completed"
    },
    "tags": []
   },
   "outputs": [],
   "source": []
  },
  {
   "cell_type": "markdown",
   "id": "27704c00",
   "metadata": {
    "papermill": {
     "duration": 0.011492,
     "end_time": "2023-08-05T18:05:15.540937",
     "exception": false,
     "start_time": "2023-08-05T18:05:15.529445",
     "status": "completed"
    },
    "tags": []
   },
   "source": [
    "### Predicting the test set"
   ]
  },
  {
   "cell_type": "code",
   "execution_count": null,
   "id": "7a62bd59",
   "metadata": {
    "papermill": {
     "duration": 0.010995,
     "end_time": "2023-08-05T18:05:15.563302",
     "exception": false,
     "start_time": "2023-08-05T18:05:15.552307",
     "status": "completed"
    },
    "tags": []
   },
   "outputs": [],
   "source": []
  },
  {
   "cell_type": "markdown",
   "id": "c5478891",
   "metadata": {
    "papermill": {
     "duration": 0.010759,
     "end_time": "2023-08-05T18:05:15.585180",
     "exception": false,
     "start_time": "2023-08-05T18:05:15.574421",
     "status": "completed"
    },
    "tags": []
   },
   "source": [
    "### Printing out the result"
   ]
  },
  {
   "cell_type": "code",
   "execution_count": null,
   "id": "bbe0ca03",
   "metadata": {
    "papermill": {
     "duration": 0.010867,
     "end_time": "2023-08-05T18:05:15.607342",
     "exception": false,
     "start_time": "2023-08-05T18:05:15.596475",
     "status": "completed"
    },
    "tags": []
   },
   "outputs": [],
   "source": []
  },
  {
   "cell_type": "markdown",
   "id": "548e08fc",
   "metadata": {
    "papermill": {
     "duration": 0.010915,
     "end_time": "2023-08-05T18:05:15.629751",
     "exception": false,
     "start_time": "2023-08-05T18:05:15.618836",
     "status": "completed"
    },
    "tags": []
   },
   "source": [
    "### Saving the model"
   ]
  },
  {
   "cell_type": "code",
   "execution_count": null,
   "id": "2a4b5e37",
   "metadata": {
    "papermill": {
     "duration": 0.010807,
     "end_time": "2023-08-05T18:05:15.651740",
     "exception": false,
     "start_time": "2023-08-05T18:05:15.640933",
     "status": "completed"
    },
    "tags": []
   },
   "outputs": [],
   "source": []
  },
  {
   "cell_type": "markdown",
   "id": "30aa1ebc",
   "metadata": {
    "papermill": {
     "duration": 0.010974,
     "end_time": "2023-08-05T18:05:15.674243",
     "exception": false,
     "start_time": "2023-08-05T18:05:15.663269",
     "status": "completed"
    },
    "tags": []
   },
   "source": [
    "## Hyperparameter tuning"
   ]
  },
  {
   "cell_type": "code",
   "execution_count": null,
   "id": "d973d8ae",
   "metadata": {
    "papermill": {
     "duration": 0.011113,
     "end_time": "2023-08-05T18:05:15.696965",
     "exception": false,
     "start_time": "2023-08-05T18:05:15.685852",
     "status": "completed"
    },
    "tags": []
   },
   "outputs": [],
   "source": []
  }
 ],
 "metadata": {
  "kernelspec": {
   "display_name": "Python 3",
   "language": "python",
   "name": "python3"
  },
  "language_info": {
   "codemirror_mode": {
    "name": "ipython",
    "version": 3
   },
   "file_extension": ".py",
   "mimetype": "text/x-python",
   "name": "python",
   "nbconvert_exporter": "python",
   "pygments_lexer": "ipython3",
   "version": "3.10.12"
  },
  "papermill": {
   "default_parameters": {},
   "duration": 35.906838,
   "end_time": "2023-08-05T18:05:16.933566",
   "environment_variables": {},
   "exception": null,
   "input_path": "__notebook__.ipynb",
   "output_path": "__notebook__.ipynb",
   "parameters": {},
   "start_time": "2023-08-05T18:04:41.026728",
   "version": "2.4.0"
  }
 },
 "nbformat": 4,
 "nbformat_minor": 5
}
